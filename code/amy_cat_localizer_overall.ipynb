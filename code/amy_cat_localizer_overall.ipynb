{
 "cells": [
  {
   "cell_type": "code",
   "execution_count": 2,
   "metadata": {},
   "outputs": [
    {
     "name": "stdout",
     "output_type": "stream",
     "text": [
      "Requirement already satisfied: nibabel in /opt/anaconda3/envs/nilearn/lib/python3.11/site-packages (5.3.2)\n",
      "Requirement already satisfied: importlib-resources>=5.12 in /opt/anaconda3/envs/nilearn/lib/python3.11/site-packages (from nibabel) (6.4.5)\n",
      "Requirement already satisfied: numpy>=1.22 in /opt/anaconda3/envs/nilearn/lib/python3.11/site-packages (from nibabel) (1.26.4)\n",
      "Requirement already satisfied: packaging>=20 in /opt/anaconda3/envs/nilearn/lib/python3.11/site-packages (from nibabel) (24.2)\n",
      "Requirement already satisfied: typing-extensions>=4.6 in /opt/anaconda3/envs/nilearn/lib/python3.11/site-packages (from nibabel) (4.12.2)\n",
      "Requirement already satisfied: nilearn in /opt/anaconda3/envs/nilearn/lib/python3.11/site-packages (0.10.4)\n",
      "Requirement already satisfied: joblib>=1.0.0 in /opt/anaconda3/envs/nilearn/lib/python3.11/site-packages (from nilearn) (1.4.2)\n",
      "Requirement already satisfied: lxml in /opt/anaconda3/envs/nilearn/lib/python3.11/site-packages (from nilearn) (5.3.0)\n",
      "Requirement already satisfied: nibabel>=4.0.0 in /opt/anaconda3/envs/nilearn/lib/python3.11/site-packages (from nilearn) (5.3.2)\n",
      "Requirement already satisfied: numpy>=1.19.0 in /opt/anaconda3/envs/nilearn/lib/python3.11/site-packages (from nilearn) (1.26.4)\n",
      "Requirement already satisfied: packaging in /opt/anaconda3/envs/nilearn/lib/python3.11/site-packages (from nilearn) (24.2)\n",
      "Requirement already satisfied: pandas>=1.1.5 in /opt/anaconda3/envs/nilearn/lib/python3.11/site-packages (from nilearn) (2.2.3)\n",
      "Requirement already satisfied: requests>=2.25.0 in /opt/anaconda3/envs/nilearn/lib/python3.11/site-packages (from nilearn) (2.32.3)\n",
      "Requirement already satisfied: scikit-learn>=1.0.0 in /opt/anaconda3/envs/nilearn/lib/python3.11/site-packages (from nilearn) (1.5.2)\n",
      "Requirement already satisfied: scipy>=1.8.0 in /opt/anaconda3/envs/nilearn/lib/python3.11/site-packages (from nilearn) (1.13.1)\n",
      "Requirement already satisfied: importlib-resources>=5.12 in /opt/anaconda3/envs/nilearn/lib/python3.11/site-packages (from nibabel>=4.0.0->nilearn) (6.4.5)\n",
      "Requirement already satisfied: typing-extensions>=4.6 in /opt/anaconda3/envs/nilearn/lib/python3.11/site-packages (from nibabel>=4.0.0->nilearn) (4.12.2)\n",
      "Requirement already satisfied: python-dateutil>=2.8.2 in /opt/anaconda3/envs/nilearn/lib/python3.11/site-packages (from pandas>=1.1.5->nilearn) (2.9.0.post0)\n",
      "Requirement already satisfied: pytz>=2020.1 in /opt/anaconda3/envs/nilearn/lib/python3.11/site-packages (from pandas>=1.1.5->nilearn) (2024.2)\n",
      "Requirement already satisfied: tzdata>=2022.7 in /opt/anaconda3/envs/nilearn/lib/python3.11/site-packages (from pandas>=1.1.5->nilearn) (2024.2)\n",
      "Requirement already satisfied: charset-normalizer<4,>=2 in /opt/anaconda3/envs/nilearn/lib/python3.11/site-packages (from requests>=2.25.0->nilearn) (3.4.0)\n",
      "Requirement already satisfied: idna<4,>=2.5 in /opt/anaconda3/envs/nilearn/lib/python3.11/site-packages (from requests>=2.25.0->nilearn) (3.10)\n",
      "Requirement already satisfied: urllib3<3,>=1.21.1 in /opt/anaconda3/envs/nilearn/lib/python3.11/site-packages (from requests>=2.25.0->nilearn) (2.2.3)\n",
      "Requirement already satisfied: certifi>=2017.4.17 in /opt/anaconda3/envs/nilearn/lib/python3.11/site-packages (from requests>=2.25.0->nilearn) (2024.8.30)\n",
      "Requirement already satisfied: threadpoolctl>=3.1.0 in /opt/anaconda3/envs/nilearn/lib/python3.11/site-packages (from scikit-learn>=1.0.0->nilearn) (3.5.0)\n",
      "Requirement already satisfied: six>=1.5 in /opt/anaconda3/envs/nilearn/lib/python3.11/site-packages (from python-dateutil>=2.8.2->pandas>=1.1.5->nilearn) (1.16.0)\n"
     ]
    }
   ],
   "source": [
    "! pip install nibabel\n",
    "! pip install nilearn\n",
    "! pip install -q nilearn\n",
    "import nibabel as nib\n",
    "import os\n",
    "import pandas as pd\n",
    "import numpy as np\n",
    "import matplotlib.pyplot as plt\n",
    "from nilearn.image import resample_to_img\n",
    "from nilearn.plotting import plot_roi, show"
   ]
  },
  {
   "cell_type": "code",
   "execution_count": 3,
   "metadata": {},
   "outputs": [
    {
     "data": {
      "text/html": [
       "<div>\n",
       "<style scoped>\n",
       "    .dataframe tbody tr th:only-of-type {\n",
       "        vertical-align: middle;\n",
       "    }\n",
       "\n",
       "    .dataframe tbody tr th {\n",
       "        vertical-align: top;\n",
       "    }\n",
       "\n",
       "    .dataframe thead th {\n",
       "        text-align: right;\n",
       "    }\n",
       "</style>\n",
       "<table border=\"1\" class=\"dataframe\">\n",
       "  <thead>\n",
       "    <tr style=\"text-align: right;\">\n",
       "      <th></th>\n",
       "      <th>subj_id</th>\n",
       "      <th>statement</th>\n",
       "      <th>face</th>\n",
       "      <th>selected_face</th>\n",
       "      <th>rt</th>\n",
       "      <th>correct</th>\n",
       "      <th>cat_chosen</th>\n",
       "      <th>cat_correct</th>\n",
       "      <th>within_error</th>\n",
       "      <th>between_error</th>\n",
       "    </tr>\n",
       "  </thead>\n",
       "  <tbody>\n",
       "    <tr>\n",
       "      <th>0</th>\n",
       "      <td>1</td>\n",
       "      <td>The more he talked - the more it became eviden...</td>\n",
       "      <td>CFD-WM-020-001-N.jpg</td>\n",
       "      <td>CFD-BM-032-024-N.jpg</td>\n",
       "      <td>NaN</td>\n",
       "      <td>0</td>\n",
       "      <td>B</td>\n",
       "      <td>W</td>\n",
       "      <td>0</td>\n",
       "      <td>1</td>\n",
       "    </tr>\n",
       "    <tr>\n",
       "      <th>1</th>\n",
       "      <td>1</td>\n",
       "      <td>I don't know. He did seem a bit worked up. I w...</td>\n",
       "      <td>CFD-BM-004-002-N.jpg</td>\n",
       "      <td>CFD-WM-238-020-N.jpg</td>\n",
       "      <td>NaN</td>\n",
       "      <td>0</td>\n",
       "      <td>W</td>\n",
       "      <td>B</td>\n",
       "      <td>0</td>\n",
       "      <td>1</td>\n",
       "    </tr>\n",
       "    <tr>\n",
       "      <th>2</th>\n",
       "      <td>1</td>\n",
       "      <td>I tried hard not to engage too much - but he k...</td>\n",
       "      <td>CFD-BM-043-071-N.jpg</td>\n",
       "      <td>CFD-WM-238-020-N.jpg</td>\n",
       "      <td>NaN</td>\n",
       "      <td>0</td>\n",
       "      <td>W</td>\n",
       "      <td>B</td>\n",
       "      <td>0</td>\n",
       "      <td>1</td>\n",
       "    </tr>\n",
       "    <tr>\n",
       "      <th>3</th>\n",
       "      <td>1</td>\n",
       "      <td>I wanted to just walk away. It wasn't worth wa...</td>\n",
       "      <td>CFD-WM-225-127-N.jpg</td>\n",
       "      <td>CFD-WM-225-127-N.jpg</td>\n",
       "      <td>NaN</td>\n",
       "      <td>1</td>\n",
       "      <td>W</td>\n",
       "      <td>W</td>\n",
       "      <td>0</td>\n",
       "      <td>0</td>\n",
       "    </tr>\n",
       "    <tr>\n",
       "      <th>4</th>\n",
       "      <td>1</td>\n",
       "      <td>Yeah they were supposed to be there. Their car...</td>\n",
       "      <td>CFD-WM-225-127-N.jpg</td>\n",
       "      <td>CFD-BM-043-071-N.jpg</td>\n",
       "      <td>NaN</td>\n",
       "      <td>0</td>\n",
       "      <td>B</td>\n",
       "      <td>W</td>\n",
       "      <td>0</td>\n",
       "      <td>1</td>\n",
       "    </tr>\n",
       "  </tbody>\n",
       "</table>\n",
       "</div>"
      ],
      "text/plain": [
       "   subj_id                                          statement  \\\n",
       "0        1  The more he talked - the more it became eviden...   \n",
       "1        1  I don't know. He did seem a bit worked up. I w...   \n",
       "2        1  I tried hard not to engage too much - but he k...   \n",
       "3        1  I wanted to just walk away. It wasn't worth wa...   \n",
       "4        1  Yeah they were supposed to be there. Their car...   \n",
       "\n",
       "                   face         selected_face  rt  correct cat_chosen  \\\n",
       "0  CFD-WM-020-001-N.jpg  CFD-BM-032-024-N.jpg NaN        0          B   \n",
       "1  CFD-BM-004-002-N.jpg  CFD-WM-238-020-N.jpg NaN        0          W   \n",
       "2  CFD-BM-043-071-N.jpg  CFD-WM-238-020-N.jpg NaN        0          W   \n",
       "3  CFD-WM-225-127-N.jpg  CFD-WM-225-127-N.jpg NaN        1          W   \n",
       "4  CFD-WM-225-127-N.jpg  CFD-BM-043-071-N.jpg NaN        0          B   \n",
       "\n",
       "  cat_correct  within_error  between_error  \n",
       "0           W             0              1  \n",
       "1           B             0              1  \n",
       "2           B             0              1  \n",
       "3           W             0              0  \n",
       "4           W             0              1  "
      ]
     },
     "execution_count": 3,
     "metadata": {},
     "output_type": "execute_result"
    }
   ],
   "source": [
    "run='1'\n",
    "\n",
    "behav_data_path = f'/Users/graceliu/Desktop/ColumbiaThesis/data/trial_by_trial_WSW.csv'\n",
    "behav_df = pd.read_csv(behav_data_path)\n",
    "behav_df.head()"
   ]
  },
  {
   "cell_type": "code",
   "execution_count": 4,
   "metadata": {},
   "outputs": [
    {
     "data": {
      "image/png": "[encoded data removed]",
      "text/plain": [
       "<Figure size 660x350 with 4 Axes>"
      ]
     },
     "metadata": {},
     "output_type": "display_data"
    }
   ],
   "source": [
    "### resample amygdala mask -- use previous hipp code \n",
    "\n",
    "#subject 001 zmap (reference image)\n",
    "run1 = \"/Users/graceliu/Desktop/ColumbiaThesis/zmaps/sub-001_encoding_correct_within_bt2_between_error_zmap.nii.gz\"\n",
    "img = nib.load(run1)\n",
    "\n",
    "#amygdala mask (source image)\n",
    "amy_file_path = \"/Users/graceliu/Desktop/ColumbiaThesis/brain_masks/amygdala_association-test_z_FDR_0.01.nii.gz\"\n",
    "amy_img = nib.load(amy_file_path)\n",
    "\n",
    "#resample amygdala mask to match Z-map\n",
    "resampled_amy_mask = resample_to_img(amy_img, img, interpolation='continuous')\n",
    "\n",
    "#convert resampled mask to numpy array\n",
    "resampled_mask_data = resampled_amy_mask.get_fdata()\n",
    "\n",
    "#apply threshold to only focus on amy ROI\n",
    "binary_mask = (resampled_mask_data > 12).astype(np.uint8)\n",
    "\n",
    "#save resampled mask as a new NIfTI file\n",
    "mask_img = nib.Nifti1Image(binary_mask, resampled_amy_mask.affine, resampled_amy_mask.header)\n",
    "\n",
    "amy_save_path = \"/Users/graceliu/Desktop/ColumbiaThesis/brain_masks/amygdala_resampled.nii.gz\"\n",
    "nib.save(mask_img, amy_save_path)\n",
    "\n",
    "plot_roi(mask_img, bg_img = img)\n",
    "show()"
   ]
  },
  {
   "cell_type": "markdown",
   "metadata": {},
   "source": [
    "# Overall face neural patterns during category localizer for a two group split: untrustworthy and trustworthy"
   ]
  },
  {
   "cell_type": "markdown",
   "metadata": {},
   "source": [
    "## All faces"
   ]
  },
  {
   "cell_type": "code",
   "execution_count": 5,
   "metadata": {},
   "outputs": [],
   "source": [
    "all_TD_ratings_path = '/Users/graceliu/Desktop/ColumbiaThesis/data/T_D_ratings_WSW.csv'\n",
    "all_TD_ratings = pd.read_csv(all_TD_ratings_path)"
   ]
  },
  {
   "cell_type": "code",
   "execution_count": 6,
   "metadata": {},
   "outputs": [
    {
     "name": "stdout",
     "output_type": "stream",
     "text": [
      "Trustworthy mean: 0.0323 (n=1889)\n",
      "Untrustworthy mean: 0.0312 (n=1831)\n"
     ]
    }
   ],
   "source": [
    "map_root = \"/Users/graceliu/Desktop/ColumbiaThesis/individual_ID_maps\"\n",
    "\n",
    "amyg_mask_img = nib.load(\"/Users/graceliu/Desktop/ColumbiaThesis/brain_masks/amygdala_resampled.nii.gz\")\n",
    "amyg_data = amyg_mask_img.get_fdata().astype(bool)\n",
    "\n",
    "trustworthy_vals, untrustworthy_vals = [], []\n",
    "\n",
    "# Compute overall median trust rating across all faces\n",
    "overall_median = all_TD_ratings[\"Trustworthy Rating\"].median()\n",
    "\n",
    "for sub in range(1, 33):\n",
    "    sub_id = f\"sub-{sub:03d}\"\n",
    "    if sub_id == \"sub-011\":\n",
    "        continue\n",
    "\n",
    "    # Check if subject folder exists before continuing    \n",
    "    sub_folder = os.path.join(map_root, sub_id)\n",
    "    if not os.path.isdir(sub_folder):\n",
    "        print(sub_folder, 'FOLDER DOES NOT EXIST')\n",
    "\n",
    "    #loops through all.nii.gz files in the subejcts folder\n",
    "    for f in os.listdir(sub_folder):\n",
    "        if f.endswith(\".nii.gz\"):\n",
    "            face_id = f.split(\"_\")[1] #extracts face ID from file name\n",
    "\n",
    "            # Get trust rating for this face\n",
    "            row = all_TD_ratings[all_TD_ratings[\"Model\"] == face_id] #finds row for the face ID in all_TD_ratings\n",
    "            if row.empty:\n",
    "                print(\"Error: face rating not found for\", face_id)\n",
    "            trust_rating = row[\"Trustworthy Rating\"].values[0] #pulls trust rating\n",
    "\n",
    "            # Load neural data\n",
    "            map_path = os.path.join(sub_folder, f)\n",
    "            img = nib.load(map_path)\n",
    "            data = img.get_fdata()\n",
    "            mean_amy = np.nanmean(data[amyg_data]) #gets the average activation (beta value)\n",
    "\n",
    "            # Classify based on overall median\n",
    "            if trust_rating > overall_median:\n",
    "                trustworthy_vals.append(mean_amy) #adds beta value to trustwowrthy dict\n",
    "            else:\n",
    "                untrustworthy_vals.append(mean_amy) #adds beta value to untrustwowrthy dict\n",
    "\n",
    "trustworthy_vals_all = trustworthy_vals\n",
    "untrustworthy_vals_all = untrustworthy_vals\n",
    "# Final average results\n",
    "print(f\"Trustworthy mean: {np.mean(trustworthy_vals_all):.4f} (n={len(trustworthy_vals_all)})\")\n",
    "print(f\"Untrustworthy mean: {np.mean(untrustworthy_vals_all):.4f} (n={len(untrustworthy_vals_all)})\")"
   ]
  },
  {
   "cell_type": "markdown",
   "metadata": {},
   "source": [
    "** download for neural diff **"
   ]
  },
  {
   "cell_type": "code",
   "execution_count": 7,
   "metadata": {},
   "outputs": [
    {
     "name": "stdout",
     "output_type": "stream",
     "text": [
      "Saved: amyg_trust_diff_overall_ALL.csv\n"
     ]
    }
   ],
   "source": [
    "subject_ids = []\n",
    "trustworthy_vals_subj = []\n",
    "untrustworthy_vals_subj = []\n",
    "\n",
    "# Loop through subjects\n",
    "for sub in range(1, 33):\n",
    "    sub_id = f\"sub-{sub:03d}\"\n",
    "    if sub_id == \"sub-011\":\n",
    "        continue  # skip subject 11\n",
    "\n",
    "    sub_folder = os.path.join(map_root, sub_id)\n",
    "    if not os.path.isdir(sub_folder):\n",
    "        print(sub_folder, 'FOLDER DOES NOT EXIST')\n",
    "        continue\n",
    "\n",
    "    face_ids_seen = []\n",
    "    for f in os.listdir(sub_folder):\n",
    "        if f.endswith(\".nii.gz\"):\n",
    "            face_id = f.split(\"_\")[1]\n",
    "            face_ids_seen.append(face_id)\n",
    "\n",
    "    # Check for duplicates\n",
    "    assert len(face_ids_seen) == len(set(face_ids_seen)), f\"ERROR: duplicates for {sub_id}\"\n",
    "\n",
    "    # Prepare per-condition storage\n",
    "    sub_trust_vals = []\n",
    "    sub_untrust_vals = []\n",
    "\n",
    "    for f in os.listdir(sub_folder):\n",
    "        if f.endswith(\".nii.gz\"):\n",
    "            face_id = f.split(\"_\")[1]\n",
    "            row = all_TD_ratings[all_TD_ratings[\"Model\"] == face_id]\n",
    "            if row.empty:\n",
    "                print(\"Error: face rating not found for\", face_id)\n",
    "                continue\n",
    "            trust_rating = row[\"Trustworthy Rating\"].values[0]\n",
    "\n",
    "            # Load beta map\n",
    "            map_path = os.path.join(sub_folder, f)\n",
    "            img = nib.load(map_path)\n",
    "            data = img.get_fdata()\n",
    "            mean_amyg = np.nanmean(data[amyg_data])\n",
    "\n",
    "            # Overall-level split\n",
    "            if trust_rating > overall_median:\n",
    "                sub_trust_vals.append(mean_amyg)\n",
    "            else:\n",
    "                sub_untrust_vals.append(mean_amyg)\n",
    "\n",
    "    # Store subject-level means\n",
    "    subject_ids.append(sub_id)\n",
    "    trustworthy_vals_subj.append(np.mean(sub_trust_vals))\n",
    "    untrustworthy_vals_subj.append(np.mean(sub_untrust_vals))\n",
    "\n",
    "# Compute neural difference\n",
    "neural_diff = np.array(trustworthy_vals_subj) - np.array(untrustworthy_vals_subj)\n",
    "\n",
    "# Save to DataFrame\n",
    "neural_diff_df = pd.DataFrame({\n",
    "    \"subj_id\": subject_ids,\n",
    "    \"mean_trustworthy\": trustworthy_vals_subj,\n",
    "    \"mean_untrustworthy\": untrustworthy_vals_subj,\n",
    "    \"neural_diff\": neural_diff\n",
    "})\n",
    "\n",
    "# neural_diff_df.head()\n",
    "\n",
    "# Export to CSV\n",
    "neural_diff_df.to_csv(\"amyg_trust_diff_overall_ALL.csv\", index=False)\n",
    "print(\"Saved: amyg_trust_diff_overall_ALL.csv\")"
   ]
  },
  {
   "cell_type": "code",
   "execution_count": 8,
   "metadata": {},
   "outputs": [
    {
     "name": "stdout",
     "output_type": "stream",
     "text": [
      "t = 0.3569\n",
      "p = 0.7212\n"
     ]
    }
   ],
   "source": [
    "from scipy.stats import ttest_ind\n",
    "\n",
    "t_stat_hipp, p_val_hipp = ttest_ind(trustworthy_vals_all, untrustworthy_vals_all, equal_var=False)\n",
    "print(f\"t = {t_stat_hipp:.4f}\")\n",
    "print(f\"p = {p_val_hipp:.4f}\")"
   ]
  },
  {
   "cell_type": "markdown",
   "metadata": {},
   "source": [
    "## BM only"
   ]
  },
  {
   "cell_type": "code",
   "execution_count": 9,
   "metadata": {},
   "outputs": [
    {
     "name": "stdout",
     "output_type": "stream",
     "text": [
      "Trustworthy mean: 0.0360 (n=1239)\n",
      "Untrustworthy mean: 0.0260 (n=621)\n"
     ]
    }
   ],
   "source": [
    "trustworthy_vals, untrustworthy_vals = [], []\n",
    "\n",
    "# Compute overall median trust rating across all faces\n",
    "overall_median = all_TD_ratings[\"Trustworthy Rating\"].median()\n",
    "\n",
    "for sub in range(1, 33):\n",
    "    sub_id = f\"sub-{sub:03d}\"\n",
    "    if sub_id == \"sub-011\":\n",
    "        continue\n",
    "\n",
    "    # Check if subject folder exists before continuing    \n",
    "    sub_folder = os.path.join(map_root, sub_id)\n",
    "    if not os.path.isdir(sub_folder):\n",
    "        print(sub_folder, 'FOLDER DOES NOT EXIST')\n",
    "\n",
    "    #loops through all.nii.gz files in the subejcts folder\n",
    "    for f in os.listdir(sub_folder):\n",
    "        if f.endswith(\".nii.gz\") and 'BM-' in f:\n",
    "            face_id = f.split(\"_\")[1] #extracts face ID from file name\n",
    "\n",
    "            # Get trust rating for this face\n",
    "            row = all_TD_ratings[all_TD_ratings[\"Model\"] == face_id] #finds row for the face ID in all_TD_ratings\n",
    "            if row.empty:\n",
    "                print(\"Error: face rating not found for\", face_id)\n",
    "            trust_rating = row[\"Trustworthy Rating\"].values[0] #pulls trust rating\n",
    "\n",
    "            # Load neural data\n",
    "            map_path = os.path.join(sub_folder, f)\n",
    "            img = nib.load(map_path)\n",
    "            data = img.get_fdata()\n",
    "            mean_amy = np.nanmean(data[amyg_data]) #gets the average activation (beta value)\n",
    "\n",
    "            # Classify based on overall median\n",
    "            if trust_rating > overall_median:\n",
    "                trustworthy_vals.append(mean_amy) #adds beta value to trustwowrthy dict\n",
    "            else:\n",
    "                untrustworthy_vals.append(mean_amy) #adds beta value to untrustwowrthy dict\n",
    "\n",
    "trustworthy_vals_BM = trustworthy_vals\n",
    "untrustworthy_vals_BM = untrustworthy_vals             \n",
    "\n",
    "# Final average results\n",
    "print(f\"Trustworthy mean: {np.mean(trustworthy_vals_BM):.4f} (n={len(trustworthy_vals_BM)})\")\n",
    "print(f\"Untrustworthy mean: {np.mean(untrustworthy_vals_BM):.4f} (n={len(untrustworthy_vals_BM)})\")"
   ]
  },
  {
   "cell_type": "code",
   "execution_count": 10,
   "metadata": {},
   "outputs": [
    {
     "name": "stdout",
     "output_type": "stream",
     "text": [
      "Saved: amyg_trust_diff_overall_BM.csv\n"
     ]
    }
   ],
   "source": [
    "subject_ids = []\n",
    "trustworthy_vals_subj = []\n",
    "untrustworthy_vals_subj = []\n",
    "\n",
    "# Loop through subjects\n",
    "for sub in range(1, 33):\n",
    "    sub_id = f\"sub-{sub:03d}\"\n",
    "    if sub_id == \"sub-011\":\n",
    "        continue  # skip subject 11\n",
    "\n",
    "    sub_folder = os.path.join(map_root, sub_id)\n",
    "    if not os.path.isdir(sub_folder):\n",
    "        print(sub_folder, 'FOLDER DOES NOT EXIST')\n",
    "        continue\n",
    "\n",
    "    face_ids_seen = []\n",
    "    for f in os.listdir(sub_folder):\n",
    "        if f.endswith(\".nii.gz\") and 'BM-' in f:\n",
    "            face_id = f.split(\"_\")[1]\n",
    "            face_ids_seen.append(face_id)\n",
    "\n",
    "    # Check for duplicates\n",
    "    assert len(face_ids_seen) == len(set(face_ids_seen)), f\"ERROR: duplicates for {sub_id}\"\n",
    "\n",
    "    # Prepare per-condition storage\n",
    "    sub_trust_vals = []\n",
    "    sub_untrust_vals = []\n",
    "\n",
    "    for f in os.listdir(sub_folder):\n",
    "        if f.endswith(\".nii.gz\") and 'BM-' in f:\n",
    "            face_id = f.split(\"_\")[1]\n",
    "            row = all_TD_ratings[all_TD_ratings[\"Model\"] == face_id]\n",
    "            if row.empty:\n",
    "                print(\"Error: face rating not found for\", face_id)\n",
    "                continue\n",
    "            trust_rating = row[\"Trustworthy Rating\"].values[0]\n",
    "\n",
    "            # Load beta map\n",
    "            map_path = os.path.join(sub_folder, f)\n",
    "            img = nib.load(map_path)\n",
    "            data = img.get_fdata()\n",
    "            mean_amyg = np.nanmean(data[amyg_data])\n",
    "\n",
    "            # Overall-level split\n",
    "            if trust_rating > overall_median:\n",
    "                sub_trust_vals.append(mean_amyg)\n",
    "            else:\n",
    "                sub_untrust_vals.append(mean_amyg)\n",
    "\n",
    "    # Store subject-level means\n",
    "    subject_ids.append(sub_id)\n",
    "    trustworthy_vals_subj.append(np.mean(sub_trust_vals))\n",
    "    untrustworthy_vals_subj.append(np.mean(sub_untrust_vals))\n",
    "\n",
    "# Compute neural difference\n",
    "neural_diff = np.array(trustworthy_vals_subj) - np.array(untrustworthy_vals_subj)\n",
    "\n",
    "# Save to DataFrame\n",
    "neural_diff_df = pd.DataFrame({\n",
    "    \"subj_id\": subject_ids,\n",
    "    \"mean_trustworthy\": trustworthy_vals_subj,\n",
    "    \"mean_untrustworthy\": untrustworthy_vals_subj,\n",
    "    \"neural_diff\": neural_diff\n",
    "})\n",
    "\n",
    "# Export to CSV\n",
    "neural_diff_df.to_csv(\"amyg_trust_diff_overall_BM.csv\", index=False)\n",
    "print(\"Saved: amyg_trust_diff_overall_BM.csv\")"
   ]
  },
  {
   "cell_type": "code",
   "execution_count": 11,
   "metadata": {},
   "outputs": [
    {
     "name": "stdout",
     "output_type": "stream",
     "text": [
      "t = 2.1412\n",
      "p = 0.0324\n"
     ]
    }
   ],
   "source": [
    "t_stat_hipp, p_val_hipp = ttest_ind(trustworthy_vals_BM, untrustworthy_vals_BM, equal_var=False)\n",
    "print(f\"t = {t_stat_hipp:.4f}\")\n",
    "print(f\"p = {p_val_hipp:.4f}\")"
   ]
  },
  {
   "cell_type": "markdown",
   "metadata": {},
   "source": [
    "## WM only"
   ]
  },
  {
   "cell_type": "code",
   "execution_count": 12,
   "metadata": {},
   "outputs": [
    {
     "name": "stdout",
     "output_type": "stream",
     "text": [
      "Trustworthy mean: 0.0255 (n=650)\n",
      "Untrustworthy mean: 0.0340 (n=1210)\n"
     ]
    }
   ],
   "source": [
    "trustworthy_vals, untrustworthy_vals = [], []\n",
    "\n",
    "# Compute overall median trust rating across all faces\n",
    "overall_median = all_TD_ratings[\"Trustworthy Rating\"].median()\n",
    "\n",
    "for sub in range(1, 33):\n",
    "    sub_id = f\"sub-{sub:03d}\"\n",
    "    if sub_id == \"sub-011\":\n",
    "        continue\n",
    "\n",
    "    # Check if subject folder exists before continuing    \n",
    "    sub_folder = os.path.join(map_root, sub_id)\n",
    "    if not os.path.isdir(sub_folder):\n",
    "        print(sub_folder, 'FOLDER DOES NOT EXIST')\n",
    "\n",
    "    #loops through all.nii.gz files in the subejcts folder\n",
    "    for f in os.listdir(sub_folder):\n",
    "        if f.endswith(\".nii.gz\") and 'WM-' in f:\n",
    "            face_id = f.split(\"_\")[1] #extracts face ID from file name\n",
    "\n",
    "            # Get trust rating for this face\n",
    "            row = all_TD_ratings[all_TD_ratings[\"Model\"] == face_id] #finds row for the face ID in all_TD_ratings\n",
    "            if row.empty:\n",
    "                print(\"Error: face rating not found for\", face_id)\n",
    "            trust_rating = row[\"Trustworthy Rating\"].values[0] #pulls trust rating\n",
    "\n",
    "            # Load neural data\n",
    "            map_path = os.path.join(sub_folder, f)\n",
    "            img = nib.load(map_path)\n",
    "            data = img.get_fdata()\n",
    "            mean_amy = np.nanmean(data[amyg_data]) #gets the average activation (beta value)\n",
    "\n",
    "            # Classify based on overall median\n",
    "            if trust_rating > overall_median:\n",
    "                trustworthy_vals.append(mean_amy) #adds beta value to trustwowrthy dict\n",
    "            else:\n",
    "                untrustworthy_vals.append(mean_amy) #adds beta value to untrustwowrthy dict\n",
    "\n",
    "trustworthy_vals_WM = trustworthy_vals\n",
    "untrustworthy_vals_WM = untrustworthy_vals\n",
    "\n",
    "# Final average results\n",
    "print(f\"Trustworthy mean: {np.mean(trustworthy_vals_WM):.4f} (n={len(trustworthy_vals_WM)})\")\n",
    "print(f\"Untrustworthy mean: {np.mean(untrustworthy_vals_WM):.4f} (n={len(untrustworthy_vals_WM)})\")"
   ]
  },
  {
   "cell_type": "code",
   "execution_count": 13,
   "metadata": {},
   "outputs": [
    {
     "name": "stdout",
     "output_type": "stream",
     "text": [
      "Saved: amyg_trust_diff_overall_WM.csv\n"
     ]
    }
   ],
   "source": [
    "subject_ids = []\n",
    "trustworthy_vals_subj = []\n",
    "untrustworthy_vals_subj = []\n",
    "\n",
    "# Loop through subjects\n",
    "for sub in range(1, 33):\n",
    "    sub_id = f\"sub-{sub:03d}\"\n",
    "    if sub_id == \"sub-011\":\n",
    "        continue  # skip subject 11\n",
    "\n",
    "    sub_folder = os.path.join(map_root, sub_id)\n",
    "    if not os.path.isdir(sub_folder):\n",
    "        print(sub_folder, 'FOLDER DOES NOT EXIST')\n",
    "        continue\n",
    "\n",
    "    face_ids_seen = []\n",
    "    for f in os.listdir(sub_folder):\n",
    "        if f.endswith(\".nii.gz\") and 'WM-' in f:\n",
    "            face_id = f.split(\"_\")[1]\n",
    "            face_ids_seen.append(face_id)\n",
    "\n",
    "    # Check for duplicates\n",
    "    assert len(face_ids_seen) == len(set(face_ids_seen)), f\"ERROR: duplicates for {sub_id}\"\n",
    "\n",
    "    # Prepare per-condition storage\n",
    "    sub_trust_vals = []\n",
    "    sub_untrust_vals = []\n",
    "\n",
    "    for f in os.listdir(sub_folder):\n",
    "        if f.endswith(\".nii.gz\") and 'WM-' in f:\n",
    "            face_id = f.split(\"_\")[1]\n",
    "            row = all_TD_ratings[all_TD_ratings[\"Model\"] == face_id]\n",
    "            if row.empty:\n",
    "                print(\"Error: face rating not found for\", face_id)\n",
    "                continue\n",
    "            trust_rating = row[\"Trustworthy Rating\"].values[0]\n",
    "\n",
    "            # Load beta map\n",
    "            map_path = os.path.join(sub_folder, f)\n",
    "            img = nib.load(map_path)\n",
    "            data = img.get_fdata()\n",
    "            mean_amyg = np.nanmean(data[amyg_data])\n",
    "\n",
    "            # Overall-level split\n",
    "            if trust_rating > overall_median:\n",
    "                sub_trust_vals.append(mean_amyg)\n",
    "            else:\n",
    "                sub_untrust_vals.append(mean_amyg)\n",
    "\n",
    "    # Store subject-level means\n",
    "    subject_ids.append(sub_id)\n",
    "    trustworthy_vals_subj.append(np.mean(sub_trust_vals))\n",
    "    untrustworthy_vals_subj.append(np.mean(sub_untrust_vals))\n",
    "\n",
    "# Compute neural difference\n",
    "neural_diff = np.array(trustworthy_vals_subj) - np.array(untrustworthy_vals_subj)\n",
    "\n",
    "# Save to DataFrame\n",
    "neural_diff_df = pd.DataFrame({\n",
    "    \"subj_id\": subject_ids,\n",
    "    \"mean_trustworthy\": trustworthy_vals_subj,\n",
    "    \"mean_untrustworthy\": untrustworthy_vals_subj,\n",
    "    \"neural_diff\": neural_diff\n",
    "})\n",
    "\n",
    "# Export to CSV\n",
    "neural_diff_df.to_csv(\"amyg_trust_diff_overall_WM.csv\", index=False)\n",
    "print(\"Saved: amyg_trust_diff_overall_WM.csv\")"
   ]
  },
  {
   "cell_type": "code",
   "execution_count": 14,
   "metadata": {},
   "outputs": [
    {
     "name": "stdout",
     "output_type": "stream",
     "text": [
      "t = -1.8154\n",
      "p = 0.0697\n"
     ]
    }
   ],
   "source": [
    "t_stat_hipp, p_val_hipp = ttest_ind(trustworthy_vals_WM, untrustworthy_vals_WM, equal_var=False)\n",
    "print(f\"t = {t_stat_hipp:.4f}\")\n",
    "print(f\"p = {p_val_hipp:.4f}\")"
   ]
  },
  {
   "cell_type": "code",
   "execution_count": 23,
   "metadata": {},
   "outputs": [
    {
     "data": {
      "image/png": "[encoded data removed]",
      "text/plain": [
       "<Figure size 800x600 with 1 Axes>"
      ]
     },
     "metadata": {},
     "output_type": "display_data"
    }
   ],
   "source": [
    "import matplotlib.pyplot as plt\n",
    "import seaborn as sns\n",
    "import pandas as pd\n",
    "\n",
    "mean_all_trustworthy = np.mean(trustworthy_vals_all)\n",
    "mean_all_untrustworthy = np.mean(untrustworthy_vals_all)\n",
    "\n",
    "mean_black_trustworthy = np.mean(trustworthy_vals_BM)\n",
    "mean_black_untrustworthy = np.mean(untrustworthy_vals_BM)\n",
    "\n",
    "mean_white_trustworthy = np.mean(trustworthy_vals_WM)\n",
    "mean_white_untrustworthy = np.mean(untrustworthy_vals_WM)\n",
    "\n",
    "#standard errors\n",
    "se_all_trustworthy = np.std(trustworthy_vals_all) / np.sqrt(len(trustworthy_vals_all))\n",
    "se_all_untrustworthy = np.std(untrustworthy_vals_all) / np.sqrt(len(untrustworthy_vals_all))\n",
    "se_black_trustworthy = np.std(trustworthy_vals_BM) / np.sqrt(len(trustworthy_vals_BM))\n",
    "se_black_untrustworthy = np.std(untrustworthy_vals_BM) / np.sqrt(len(untrustworthy_vals_BM))\n",
    "se_white_trustworthy = np.std(trustworthy_vals_WM) / np.sqrt(len(trustworthy_vals_WM))\n",
    "se_white_untrustworthy = np.std(untrustworthy_vals_WM) / np.sqrt(len(untrustworthy_vals_WM))\n",
    "\n",
    "# Grouped data\n",
    "groups = ['All Faces', 'Black Males', 'White Males']\n",
    "x = np.arange(len(groups))\n",
    "bar_width = 0.35\n",
    "\n",
    "means_trustworthy = [mean_all_trustworthy, mean_black_trustworthy, mean_white_trustworthy]\n",
    "means_untrustworthy = [mean_all_untrustworthy, mean_black_untrustworthy, mean_white_untrustworthy]\n",
    "errors_trustworthy = [se_all_trustworthy, se_black_trustworthy, se_white_trustworthy]\n",
    "errors_untrustworthy = [se_all_untrustworthy, se_black_untrustworthy, se_white_untrustworthy]\n",
    "\n",
    "# Create the plot\n",
    "plt.figure(figsize=(8, 6))\n",
    "trust_x = x - bar_width / 2\n",
    "untrust_x = x + bar_width / 2\n",
    "\n",
    "# Plot bars\n",
    "plt.bar(trust_x, means_trustworthy, yerr=errors_trustworthy, width=bar_width, label='Trustworthy',\n",
    "        capsize=5, color='#66c2a5')\n",
    "plt.bar(untrust_x, means_untrustworthy, yerr=errors_untrustworthy, width=bar_width, label='Untrustworthy',\n",
    "        capsize=5, color='#fc8d62')\n",
    "\n",
    "# Labels and formatting\n",
    "plt.title('Amygdala Activity by Trust Level and Race', fontsize=16)\n",
    "plt.xlabel('Face Group', fontweight='bold')\n",
    "plt.ylabel('Mean Beta Value', fontweight='bold')\n",
    "plt.xticks(x, groups, fontsize=12)\n",
    "plt.ylim(0.02, 0.04)\n",
    "plt.legend(title='Trust Level', bbox_to_anchor=(1.02, 1), loc='upper left', borderaxespad=0)\n",
    "plt.grid(axis='y', linestyle='--', alpha=0.5)\n",
    "plt.tight_layout()\n",
    "plt.show()\n",
    "\n",
    "\n",
    "\n",
    "# # Replace these with your actual computed means\n",
    "# data = {\n",
    "#     'Group': ['All Faces', 'All Faces', 'Black Males', 'Black Males', 'White Males', 'White Males'],\n",
    "#     'Trust Level': ['Trustworthy', 'Untrustworthy'] * 3,\n",
    "#     'Mean Beta': [\n",
    "#         mean_all_trustworthy, mean_all_untrustworthy,\n",
    "#         mean_black_trustworthy, mean_black_untrustworthy,\n",
    "#         mean_white_trustworthy, mean_white_untrustworthy\n",
    "#     ],\n",
    "# }\n",
    "\n",
    "# df = pd.DataFrame(data)\n",
    "\n",
    "# # Plotting\n",
    "# plt.figure(figsize=(8, 6))\n",
    "# ax = sns.barplot(data=df, x='Group', y='Mean Beta', hue='Trust Level', palette='Set2')\n",
    "# plt.title('Amygdala Activity by Trust Level and Race')\n",
    "# plt.ylabel('Mean Beta Value')\n",
    "# plt.xlabel('Face Group')\n",
    "# ax.legend(title='Trust Level', bbox_to_anchor=(1.02, 1), loc='upper left', borderaxespad=0)\n",
    "# plt.tight_layout()\n",
    "# plt.show()"
   ]
  },
  {
   "cell_type": "markdown",
   "metadata": {},
   "source": [
    "# Dom vs. non dom\n",
    "# All faces"
   ]
  },
  {
   "cell_type": "code",
   "execution_count": 16,
   "metadata": {},
   "outputs": [
    {
     "name": "stdout",
     "output_type": "stream",
     "text": [
      "Dominant mean: 0.0334 (n=1815)\n",
      "Non Dominant mean: 0.0302 (n=1905)\n"
     ]
    }
   ],
   "source": [
    "dominant_vals, nondominant_vals = [], []\n",
    "\n",
    "# Compute overall median trust rating across all faces\n",
    "overall_median = all_TD_ratings[\"Dominant Rating\"].median()\n",
    "\n",
    "for sub in range(1, 33):\n",
    "    sub_id = f\"sub-{sub:03d}\"\n",
    "    if sub_id == \"sub-011\":\n",
    "        continue\n",
    "\n",
    "    # Check if subject folder exists before continuing    \n",
    "    sub_folder = os.path.join(map_root, sub_id)\n",
    "    if not os.path.isdir(sub_folder):\n",
    "        print(sub_folder, 'FOLDER DOES NOT EXIST')\n",
    "\n",
    "    #loops through all.nii.gz files in the subejcts folder\n",
    "    for f in os.listdir(sub_folder):\n",
    "        if f.endswith(\".nii.gz\"):\n",
    "            face_id = f.split(\"_\")[1] #extracts face ID from file name\n",
    "\n",
    "            # Get trust rating for this face\n",
    "            row = all_TD_ratings[all_TD_ratings[\"Model\"] == face_id] #finds row for the face ID in all_TD_ratings\n",
    "            if row.empty:\n",
    "                print(\"Error: face rating not found for\", face_id)\n",
    "            dom_rating = row[\"Dominant Rating\"].values[0] #pulls trust rating\n",
    "\n",
    "            # Load neural data\n",
    "            map_path = os.path.join(sub_folder, f)\n",
    "            img = nib.load(map_path)\n",
    "            data = img.get_fdata()\n",
    "            mean_amy = np.nanmean(data[amyg_data]) #gets the average activation (beta value)\n",
    "\n",
    "            # Classify based on overall median\n",
    "            if dom_rating > overall_median:\n",
    "                dominant_vals.append(mean_amy) #adds beta value to trustwowrthy dict\n",
    "            else:\n",
    "                nondominant_vals.append(mean_amy) #adds beta value to untrustwowrthy dict\n",
    "\n",
    "dominant_vals_all = dominant_vals\n",
    "nondominant_vals_all = nondominant_vals\n",
    "\n",
    "# Final average results\n",
    "print(f\"Dominant mean: {np.mean(dominant_vals_all):.4f} (n={len(dominant_vals_all)})\")\n",
    "print(f\"Non Dominant mean: {np.mean(nondominant_vals_all):.4f} (n={len(nondominant_vals_all)})\")"
   ]
  },
  {
   "cell_type": "code",
   "execution_count": 17,
   "metadata": {},
   "outputs": [
    {
     "name": "stdout",
     "output_type": "stream",
     "text": [
      "t = 1.0299\n",
      "p = 0.3031\n"
     ]
    }
   ],
   "source": [
    "t_stat_hipp, p_val_hipp = ttest_ind(dominant_vals_all, nondominant_vals_all, equal_var=False)\n",
    "print(f\"t = {t_stat_hipp:.4f}\")\n",
    "print(f\"p = {p_val_hipp:.4f}\")"
   ]
  },
  {
   "cell_type": "markdown",
   "metadata": {},
   "source": [
    "## BM only"
   ]
  },
  {
   "cell_type": "code",
   "execution_count": 18,
   "metadata": {},
   "outputs": [
    {
     "name": "stdout",
     "output_type": "stream",
     "text": [
      "Dominant  mean: 0.0320 (n=1134)\n",
      "Non Dominant mean: 0.0336 (n=726)\n"
     ]
    }
   ],
   "source": [
    "dominant_vals, nondominant_vals = [], []\n",
    "\n",
    "# Compute overall median trust rating across all faces\n",
    "overall_median = all_TD_ratings[\"Dominant Rating\"].median()\n",
    "\n",
    "for sub in range(1, 33):\n",
    "    sub_id = f\"sub-{sub:03d}\"\n",
    "    if sub_id == \"sub-011\":\n",
    "        continue\n",
    "\n",
    "    # Check if subject folder exists before continuing    \n",
    "    sub_folder = os.path.join(map_root, sub_id)\n",
    "    if not os.path.isdir(sub_folder):\n",
    "        print(sub_folder, 'FOLDER DOES NOT EXIST')\n",
    "\n",
    "    #loops through all.nii.gz files in the subejcts folder\n",
    "    for f in os.listdir(sub_folder):\n",
    "        if f.endswith(\".nii.gz\") and 'BM-' in f:\n",
    "            face_id = f.split(\"_\")[1] #extracts face ID from file name\n",
    "\n",
    "            # Get trust rating for this face\n",
    "            row = all_TD_ratings[all_TD_ratings[\"Model\"] == face_id] #finds row for the face ID in all_TD_ratings\n",
    "            if row.empty:\n",
    "                print(\"Error: face rating not found for\", face_id)\n",
    "            dom_rating = row[\"Dominant Rating\"].values[0] #pulls trust rating\n",
    "\n",
    "            # Load neural data\n",
    "            map_path = os.path.join(sub_folder, f)\n",
    "            img = nib.load(map_path)\n",
    "            data = img.get_fdata()\n",
    "            mean_amy = np.nanmean(data[amyg_data]) #gets the average activation (beta value)\n",
    "\n",
    "            # Classify based on overall median\n",
    "            if dom_rating > overall_median:\n",
    "                dominant_vals.append(mean_amy) #adds beta value to trustwowrthy dict\n",
    "            else:\n",
    "                nondominant_vals.append(mean_amy) #adds beta value to untrustwowrthy dict\n",
    "\n",
    "dominant_vals_BM = dominant_vals\n",
    "nondominant_vals_BM = nondominant_vals\n",
    "\n",
    "# Final average results\n",
    "print(f\"Dominant  mean: {np.mean(dominant_vals_BM):.4f} (n={len(dominant_vals_BM)})\")\n",
    "print(f\"Non Dominant mean: {np.mean(nondominant_vals_BM):.4f} (n={len(nondominant_vals_BM)})\")"
   ]
  },
  {
   "cell_type": "code",
   "execution_count": 19,
   "metadata": {},
   "outputs": [
    {
     "name": "stdout",
     "output_type": "stream",
     "text": [
      "t = -0.3388\n",
      "p = 0.7348\n"
     ]
    }
   ],
   "source": [
    "t_stat_hipp, p_val_hipp = ttest_ind(dominant_vals_BM, nondominant_vals_BM, equal_var=False)\n",
    "print(f\"t = {t_stat_hipp:.4f}\")\n",
    "print(f\"p = {p_val_hipp:.4f}\")"
   ]
  },
  {
   "cell_type": "markdown",
   "metadata": {},
   "source": [
    "## WM only"
   ]
  },
  {
   "cell_type": "code",
   "execution_count": 20,
   "metadata": {},
   "outputs": [
    {
     "name": "stdout",
     "output_type": "stream",
     "text": [
      "Dominant mean: 0.0358 (n=681)\n",
      "Non Dominant mean: 0.0282 (n=1179)\n"
     ]
    }
   ],
   "source": [
    "dominant_vals, nondominant_vals = [], []\n",
    "\n",
    "# Compute overall median trust rating across all faces\n",
    "overall_median = all_TD_ratings[\"Dominant Rating\"].median()\n",
    "\n",
    "for sub in range(1, 33):\n",
    "    sub_id = f\"sub-{sub:03d}\"\n",
    "    if sub_id == \"sub-011\":\n",
    "        continue\n",
    "\n",
    "    # Check if subject folder exists before continuing    \n",
    "    sub_folder = os.path.join(map_root, sub_id)\n",
    "    if not os.path.isdir(sub_folder):\n",
    "        print(sub_folder, 'FOLDER DOES NOT EXIST')\n",
    "\n",
    "    #loops through all.nii.gz files in the subejcts folder\n",
    "    for f in os.listdir(sub_folder):\n",
    "        if f.endswith(\".nii.gz\") and 'WM-' in f:\n",
    "            face_id = f.split(\"_\")[1] #extracts face ID from file name\n",
    "\n",
    "            # Get trust rating for this face\n",
    "            row = all_TD_ratings[all_TD_ratings[\"Model\"] == face_id] #finds row for the face ID in all_TD_ratings\n",
    "            if row.empty:\n",
    "                print(\"Error: face rating not found for\", face_id)\n",
    "            dom_rating = row[\"Dominant Rating\"].values[0] #pulls trust rating\n",
    "\n",
    "            # Load neural data\n",
    "            map_path = os.path.join(sub_folder, f)\n",
    "            img = nib.load(map_path)\n",
    "            data = img.get_fdata()\n",
    "            mean_amy = np.nanmean(data[amyg_data]) #gets the average activation (beta value)\n",
    "\n",
    "            # Classify based on overall median\n",
    "            if dom_rating > overall_median:\n",
    "                dominant_vals.append(mean_amy) #adds beta value to trustwowrthy dict\n",
    "            else:\n",
    "                nondominant_vals.append(mean_amy) #adds beta value to untrustwowrthy dict\n",
    "\n",
    "dominant_vals_WM = dominant_vals\n",
    "nondominant_vals_WM = nondominant_vals\n",
    "\n",
    "# Final average results\n",
    "print(f\"Dominant mean: {np.mean(dominant_vals_WM):.4f} (n={len(dominant_vals_WM)})\")\n",
    "print(f\"Non Dominant mean: {np.mean(nondominant_vals_WM):.4f} (n={len(nondominant_vals_WM)})\")"
   ]
  },
  {
   "cell_type": "code",
   "execution_count": 21,
   "metadata": {},
   "outputs": [
    {
     "name": "stdout",
     "output_type": "stream",
     "text": [
      "t = 1.6999\n",
      "p = 0.0894\n"
     ]
    }
   ],
   "source": [
    "t_stat_hipp, p_val_hipp = ttest_ind(dominant_vals_WM, nondominant_vals_WM, equal_var=False)\n",
    "print(f\"t = {t_stat_hipp:.4f}\")\n",
    "print(f\"p = {p_val_hipp:.4f}\")"
   ]
  },
  {
   "cell_type": "code",
   "execution_count": 24,
   "metadata": {},
   "outputs": [
    {
     "data": {
      "image/png": "[encoded data removed]",
      "text/plain": [
       "<Figure size 800x600 with 1 Axes>"
      ]
     },
     "metadata": {},
     "output_type": "display_data"
    }
   ],
   "source": [
    "import matplotlib.pyplot as plt\n",
    "import seaborn as sns\n",
    "import pandas as pd\n",
    "\n",
    "#means\n",
    "mean_all_dominant = np.mean(dominant_vals_all)\n",
    "mean_all_nondominant = np.mean(nondominant_vals_all)\n",
    "\n",
    "mean_black_dominant = np.mean(dominant_vals_BM)\n",
    "mean_black_nondominant = np.mean(nondominant_vals_BM)\n",
    "\n",
    "mean_white_dominant = np.mean(dominant_vals_WM)\n",
    "mean_white_nondominant = np.mean(nondominant_vals_WM)\n",
    "\n",
    "#standard errors\n",
    "se_all_dominant = np.std(dominant_vals_all) / np.sqrt(len(dominant_vals_all))\n",
    "se_all_nondominant = np.std(nondominant_vals_all) / np.sqrt(len(nondominant_vals_all))\n",
    "se_black_dominant = np.std(dominant_vals_BM) / np.sqrt(len(dominant_vals_BM))\n",
    "se_black_nondominant = np.std(nondominant_vals_BM) / np.sqrt(len(nondominant_vals_BM))\n",
    "se_white_dominant = np.std(dominant_vals_WM) / np.sqrt(len(dominant_vals_WM))\n",
    "se_white_nondominant = np.std(nondominant_vals_WM) / np.sqrt(len(nondominant_vals_WM))\n",
    "\n",
    "\n",
    "# Grouped data\n",
    "groups = ['All Faces', 'Black Males', 'White Males']\n",
    "x = np.arange(len(groups))\n",
    "bar_width = 0.35\n",
    "\n",
    "means_dominant = [mean_all_dominant, mean_black_dominant, mean_white_dominant]\n",
    "means_nondominant = [mean_all_nondominant, mean_black_nondominant, mean_white_nondominant]\n",
    "errors_dominant = [se_all_dominant, se_black_dominant, se_white_dominant]\n",
    "errors_nondominant = [se_all_nondominant, se_black_nondominant, se_white_nondominant]\n",
    "\n",
    "# Create the plot\n",
    "plt.figure(figsize=(8, 6))\n",
    "dom_x = x - bar_width / 2\n",
    "sub_x = x + bar_width / 2\n",
    "\n",
    "# Plot bars\n",
    "plt.bar(dom_x, means_dominant, yerr=errors_dominant, width=bar_width, label='Dominant',\n",
    "        capsize=5, color='#66c2a5')\n",
    "plt.bar(sub_x, means_nondominant, yerr=errors_nondominant, width=bar_width, label='Submissive',\n",
    "        capsize=5, color='#fc8d62')\n",
    "\n",
    "# Labels and formatting\n",
    "plt.title('Amygdala Activity by Dominant Level and Race', fontsize=16)\n",
    "plt.xlabel('Face Group', fontweight='bold')\n",
    "plt.ylabel('Mean Beta Value', fontweight='bold')\n",
    "plt.xticks(x, groups, fontsize=12)\n",
    "plt.ylim(0.02, 0.04)\n",
    "plt.legend(title='Dominant Level', bbox_to_anchor=(1.02, 1), loc='upper left', borderaxespad=0)\n",
    "plt.grid(axis='y', linestyle='--', alpha=0.5)\n",
    "plt.tight_layout()\n",
    "plt.show()\n",
    "\n",
    "\n",
    "# # Replace these with your actual computed means\n",
    "# data = {\n",
    "#     'Group': ['All Faces', 'All Faces', 'Black Males', 'Black Males', 'White Males', 'White Males'],\n",
    "#     'Dom Level': ['Dominant', 'Non Dominant'] * 3,\n",
    "#     'Mean Beta': [\n",
    "#         mean_all_dominant, mean_all_nondominant,\n",
    "#         mean_black_dominant, mean_black_nondominant,\n",
    "#         mean_white_dominant, mean_white_nondominant\n",
    "#     ]\n",
    "# }\n",
    "\n",
    "# df = pd.DataFrame(data)\n",
    "\n",
    "# # Plotting\n",
    "# plt.figure(figsize=(8, 6))\n",
    "# ax = sns.barplot(data=df, x='Group', y='Mean Beta', hue='Dom Level', palette='Set2')\n",
    "# plt.title('Amygdala Activity by Dominant Level and Race')\n",
    "# plt.ylabel('Mean Beta Value')\n",
    "# plt.xlabel('Face Group')\n",
    "# ax.legend(title='Dominant Level', bbox_to_anchor=(1.02, 1), loc='upper left', borderaxespad=0)\n",
    "# plt.tight_layout()\n",
    "# plt.show()"
   ]
  }
 ],
 "metadata": {
  "kernelspec": {
   "display_name": "nilearn",
   "language": "python",
   "name": "python3"
  },
  "language_info": {
   "codemirror_mode": {
    "name": "ipython",
    "version": 3
   },
   "file_extension": ".py",
   "mimetype": "text/x-python",
   "name": "python",
   "nbconvert_exporter": "python",
   "pygments_lexer": "ipython3",
   "version": "3.11.10"
  }
 },
 "nbformat": 4,
 "nbformat_minor": 2
}
