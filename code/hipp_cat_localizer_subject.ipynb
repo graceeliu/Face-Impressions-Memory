{
 "cells": [
  {
   "cell_type": "code",
   "execution_count": 1,
   "metadata": {},
   "outputs": [
    {
     "name": "stdout",
     "output_type": "stream",
     "text": [
      "Requirement already satisfied: nibabel in /opt/anaconda3/envs/nilearn/lib/python3.11/site-packages (5.3.2)\n",
      "Requirement already satisfied: importlib-resources>=5.12 in /opt/anaconda3/envs/nilearn/lib/python3.11/site-packages (from nibabel) (6.4.5)\n",
      "Requirement already satisfied: numpy>=1.22 in /opt/anaconda3/envs/nilearn/lib/python3.11/site-packages (from nibabel) (1.26.4)\n",
      "Requirement already satisfied: packaging>=20 in /opt/anaconda3/envs/nilearn/lib/python3.11/site-packages (from nibabel) (24.2)\n",
      "Requirement already satisfied: typing-extensions>=4.6 in /opt/anaconda3/envs/nilearn/lib/python3.11/site-packages (from nibabel) (4.12.2)\n",
      "Requirement already satisfied: nilearn in /opt/anaconda3/envs/nilearn/lib/python3.11/site-packages (0.10.4)\n",
      "Requirement already satisfied: joblib>=1.0.0 in /opt/anaconda3/envs/nilearn/lib/python3.11/site-packages (from nilearn) (1.4.2)\n",
      "Requirement already satisfied: lxml in /opt/anaconda3/envs/nilearn/lib/python3.11/site-packages (from nilearn) (5.3.0)\n",
      "Requirement already satisfied: nibabel>=4.0.0 in /opt/anaconda3/envs/nilearn/lib/python3.11/site-packages (from nilearn) (5.3.2)\n",
      "Requirement already satisfied: numpy>=1.19.0 in /opt/anaconda3/envs/nilearn/lib/python3.11/site-packages (from nilearn) (1.26.4)\n",
      "Requirement already satisfied: packaging in /opt/anaconda3/envs/nilearn/lib/python3.11/site-packages (from nilearn) (24.2)\n",
      "Requirement already satisfied: pandas>=1.1.5 in /opt/anaconda3/envs/nilearn/lib/python3.11/site-packages (from nilearn) (2.2.3)\n",
      "Requirement already satisfied: requests>=2.25.0 in /opt/anaconda3/envs/nilearn/lib/python3.11/site-packages (from nilearn) (2.32.3)\n",
      "Requirement already satisfied: scikit-learn>=1.0.0 in /opt/anaconda3/envs/nilearn/lib/python3.11/site-packages (from nilearn) (1.5.2)\n",
      "Requirement already satisfied: scipy>=1.8.0 in /opt/anaconda3/envs/nilearn/lib/python3.11/site-packages (from nilearn) (1.13.1)\n",
      "Requirement already satisfied: importlib-resources>=5.12 in /opt/anaconda3/envs/nilearn/lib/python3.11/site-packages (from nibabel>=4.0.0->nilearn) (6.4.5)\n",
      "Requirement already satisfied: typing-extensions>=4.6 in /opt/anaconda3/envs/nilearn/lib/python3.11/site-packages (from nibabel>=4.0.0->nilearn) (4.12.2)\n",
      "Requirement already satisfied: python-dateutil>=2.8.2 in /opt/anaconda3/envs/nilearn/lib/python3.11/site-packages (from pandas>=1.1.5->nilearn) (2.9.0.post0)\n",
      "Requirement already satisfied: pytz>=2020.1 in /opt/anaconda3/envs/nilearn/lib/python3.11/site-packages (from pandas>=1.1.5->nilearn) (2024.2)\n",
      "Requirement already satisfied: tzdata>=2022.7 in /opt/anaconda3/envs/nilearn/lib/python3.11/site-packages (from pandas>=1.1.5->nilearn) (2024.2)\n",
      "Requirement already satisfied: charset-normalizer<4,>=2 in /opt/anaconda3/envs/nilearn/lib/python3.11/site-packages (from requests>=2.25.0->nilearn) (3.4.0)\n",
      "Requirement already satisfied: idna<4,>=2.5 in /opt/anaconda3/envs/nilearn/lib/python3.11/site-packages (from requests>=2.25.0->nilearn) (3.10)\n",
      "Requirement already satisfied: urllib3<3,>=1.21.1 in /opt/anaconda3/envs/nilearn/lib/python3.11/site-packages (from requests>=2.25.0->nilearn) (2.2.3)\n",
      "Requirement already satisfied: certifi>=2017.4.17 in /opt/anaconda3/envs/nilearn/lib/python3.11/site-packages (from requests>=2.25.0->nilearn) (2024.8.30)\n",
      "Requirement already satisfied: threadpoolctl>=3.1.0 in /opt/anaconda3/envs/nilearn/lib/python3.11/site-packages (from scikit-learn>=1.0.0->nilearn) (3.5.0)\n",
      "Requirement already satisfied: six>=1.5 in /opt/anaconda3/envs/nilearn/lib/python3.11/site-packages (from python-dateutil>=2.8.2->pandas>=1.1.5->nilearn) (1.16.0)\n"
     ]
    }
   ],
   "source": [
    "! pip install nibabel\n",
    "! pip install nilearn\n",
    "! pip install -q nilearn\n",
    "\n",
    "import nibabel as nib\n",
    "import pandas as pd\n",
    "import os\n",
    "import numpy as np"
   ]
  },
  {
   "cell_type": "code",
   "execution_count": 2,
   "metadata": {},
   "outputs": [
    {
     "data": {
      "text/html": [
       "<div>\n",
       "<style scoped>\n",
       "    .dataframe tbody tr th:only-of-type {\n",
       "        vertical-align: middle;\n",
       "    }\n",
       "\n",
       "    .dataframe tbody tr th {\n",
       "        vertical-align: top;\n",
       "    }\n",
       "\n",
       "    .dataframe thead th {\n",
       "        text-align: right;\n",
       "    }\n",
       "</style>\n",
       "<table border=\"1\" class=\"dataframe\">\n",
       "  <thead>\n",
       "    <tr style=\"text-align: right;\">\n",
       "      <th></th>\n",
       "      <th>subj_id</th>\n",
       "      <th>statement</th>\n",
       "      <th>face</th>\n",
       "      <th>selected_face</th>\n",
       "      <th>rt</th>\n",
       "      <th>correct</th>\n",
       "      <th>cat_chosen</th>\n",
       "      <th>cat_correct</th>\n",
       "      <th>within_error</th>\n",
       "      <th>between_error</th>\n",
       "    </tr>\n",
       "  </thead>\n",
       "  <tbody>\n",
       "    <tr>\n",
       "      <th>0</th>\n",
       "      <td>1</td>\n",
       "      <td>The more he talked - the more it became eviden...</td>\n",
       "      <td>CFD-WM-020-001-N.jpg</td>\n",
       "      <td>CFD-BM-032-024-N.jpg</td>\n",
       "      <td>NaN</td>\n",
       "      <td>0</td>\n",
       "      <td>B</td>\n",
       "      <td>W</td>\n",
       "      <td>0</td>\n",
       "      <td>1</td>\n",
       "    </tr>\n",
       "    <tr>\n",
       "      <th>1</th>\n",
       "      <td>1</td>\n",
       "      <td>I don't know. He did seem a bit worked up. I w...</td>\n",
       "      <td>CFD-BM-004-002-N.jpg</td>\n",
       "      <td>CFD-WM-238-020-N.jpg</td>\n",
       "      <td>NaN</td>\n",
       "      <td>0</td>\n",
       "      <td>W</td>\n",
       "      <td>B</td>\n",
       "      <td>0</td>\n",
       "      <td>1</td>\n",
       "    </tr>\n",
       "    <tr>\n",
       "      <th>2</th>\n",
       "      <td>1</td>\n",
       "      <td>I tried hard not to engage too much - but he k...</td>\n",
       "      <td>CFD-BM-043-071-N.jpg</td>\n",
       "      <td>CFD-WM-238-020-N.jpg</td>\n",
       "      <td>NaN</td>\n",
       "      <td>0</td>\n",
       "      <td>W</td>\n",
       "      <td>B</td>\n",
       "      <td>0</td>\n",
       "      <td>1</td>\n",
       "    </tr>\n",
       "    <tr>\n",
       "      <th>3</th>\n",
       "      <td>1</td>\n",
       "      <td>I wanted to just walk away. It wasn't worth wa...</td>\n",
       "      <td>CFD-WM-225-127-N.jpg</td>\n",
       "      <td>CFD-WM-225-127-N.jpg</td>\n",
       "      <td>NaN</td>\n",
       "      <td>1</td>\n",
       "      <td>W</td>\n",
       "      <td>W</td>\n",
       "      <td>0</td>\n",
       "      <td>0</td>\n",
       "    </tr>\n",
       "    <tr>\n",
       "      <th>4</th>\n",
       "      <td>1</td>\n",
       "      <td>Yeah they were supposed to be there. Their car...</td>\n",
       "      <td>CFD-WM-225-127-N.jpg</td>\n",
       "      <td>CFD-BM-043-071-N.jpg</td>\n",
       "      <td>NaN</td>\n",
       "      <td>0</td>\n",
       "      <td>B</td>\n",
       "      <td>W</td>\n",
       "      <td>0</td>\n",
       "      <td>1</td>\n",
       "    </tr>\n",
       "  </tbody>\n",
       "</table>\n",
       "</div>"
      ],
      "text/plain": [
       "   subj_id                                          statement  \\\n",
       "0        1  The more he talked - the more it became eviden...   \n",
       "1        1  I don't know. He did seem a bit worked up. I w...   \n",
       "2        1  I tried hard not to engage too much - but he k...   \n",
       "3        1  I wanted to just walk away. It wasn't worth wa...   \n",
       "4        1  Yeah they were supposed to be there. Their car...   \n",
       "\n",
       "                   face         selected_face  rt  correct cat_chosen  \\\n",
       "0  CFD-WM-020-001-N.jpg  CFD-BM-032-024-N.jpg NaN        0          B   \n",
       "1  CFD-BM-004-002-N.jpg  CFD-WM-238-020-N.jpg NaN        0          W   \n",
       "2  CFD-BM-043-071-N.jpg  CFD-WM-238-020-N.jpg NaN        0          W   \n",
       "3  CFD-WM-225-127-N.jpg  CFD-WM-225-127-N.jpg NaN        1          W   \n",
       "4  CFD-WM-225-127-N.jpg  CFD-BM-043-071-N.jpg NaN        0          B   \n",
       "\n",
       "  cat_correct  within_error  between_error  \n",
       "0           W             0              1  \n",
       "1           B             0              1  \n",
       "2           B             0              1  \n",
       "3           W             0              0  \n",
       "4           W             0              1  "
      ]
     },
     "execution_count": 2,
     "metadata": {},
     "output_type": "execute_result"
    }
   ],
   "source": [
    "run='1'\n",
    "\n",
    "behav_data_path = f'/Users/graceliu/Desktop/ColumbiaThesis/data/trial_by_trial_WSW.csv'\n",
    "behav_df = pd.read_csv(behav_data_path)\n",
    "behav_df.head()"
   ]
  },
  {
   "cell_type": "code",
   "execution_count": 3,
   "metadata": {},
   "outputs": [
    {
     "data": {
      "image/png": "[encoded data removed]",
      "text/plain": [
       "<Figure size 660x350 with 4 Axes>"
      ]
     },
     "metadata": {},
     "output_type": "display_data"
    }
   ],
   "source": [
    "from nilearn.image import resample_to_img\n",
    "from nilearn.plotting import plot_roi, show\n",
    "\n",
    "#subject 001 zmap (reference image)\n",
    "run1 = \"/Users/graceliu/Desktop/ColumbiaThesis/zmaps/sub-001_encoding_correct_within_bt2_between_error_zmap.nii.gz\"\n",
    "img = nib.load(run1)\n",
    "\n",
    "#hippocampus mask (source image)\n",
    "hipp_file_path = \"/Users/graceliu/Desktop/ColumbiaThesis/brain_masks/hippocampus_association-test_z_FDR_0.01.nii.gz\"\n",
    "hipp_img = nib.load(hipp_file_path)\n",
    "\n",
    "#resample hippocampus mask to match Z-map\n",
    "resampled_hipp_mask = resample_to_img(hipp_img, img, interpolation='continuous')\n",
    "\n",
    "#convert resampled mask to numpy array\n",
    "resampled_mask_data = resampled_hipp_mask.get_fdata()\n",
    "\n",
    "#apply threshold to only focus on hippocampus ROI\n",
    "binary_mask = (resampled_mask_data > 12).astype(np.uint8)\n",
    "\n",
    "#save resampled mask as a new NIfTI file\n",
    "mask_img = nib.Nifti1Image(binary_mask, resampled_hipp_mask.affine, resampled_hipp_mask.header)\n",
    "\n",
    "hipp_save_path = \"/Users/graceliu/Desktop/ColumbiaThesis/brain_masks/hippocampus_resampled.nii.gz\"\n",
    "nib.save(mask_img, hipp_save_path)\n",
    "\n",
    "plot_roi(mask_img, bg_img = img)\n",
    "show()"
   ]
  },
  {
   "cell_type": "markdown",
   "metadata": {},
   "source": [
    "# Individual face neural patterns during category localizer for a two group split: untrustworthy and trustworthy\n",
    "\n",
    "### classify faces as trustworthy or untrustworthy based on each subject's own distribution of seen faces --> use their own median trustworthiness ratings as a cutoff\n",
    "- controls for which specific faces each subject saw\n",
    "- better for analyzing within-subject differences (e.g. did subject 1 respond differently to faces they perceived as more vs. less trustworthy)\n",
    "- hard to interpet globally since not all subjects have the same definition/threshold for trustworthy/untrustworthy\n",
    "\n",
    "\n",
    "output: average neural activation for trust/untrust faces PER SUBJECT"
   ]
  },
  {
   "cell_type": "code",
   "execution_count": 4,
   "metadata": {},
   "outputs": [
    {
     "data": {
      "text/html": [
       "<div>\n",
       "<style scoped>\n",
       "    .dataframe tbody tr th:only-of-type {\n",
       "        vertical-align: middle;\n",
       "    }\n",
       "\n",
       "    .dataframe tbody tr th {\n",
       "        vertical-align: top;\n",
       "    }\n",
       "\n",
       "    .dataframe thead th {\n",
       "        text-align: right;\n",
       "    }\n",
       "</style>\n",
       "<table border=\"1\" class=\"dataframe\">\n",
       "  <thead>\n",
       "    <tr style=\"text-align: right;\">\n",
       "      <th></th>\n",
       "      <th>Model</th>\n",
       "      <th>Trustworthy Rating</th>\n",
       "      <th>Dominant Rating</th>\n",
       "    </tr>\n",
       "  </thead>\n",
       "  <tbody>\n",
       "    <tr>\n",
       "      <th>0</th>\n",
       "      <td>BM-001</td>\n",
       "      <td>3.063830</td>\n",
       "      <td>3.230769</td>\n",
       "    </tr>\n",
       "    <tr>\n",
       "      <th>1</th>\n",
       "      <td>BM-002</td>\n",
       "      <td>3.617021</td>\n",
       "      <td>3.703704</td>\n",
       "    </tr>\n",
       "    <tr>\n",
       "      <th>2</th>\n",
       "      <td>BM-003</td>\n",
       "      <td>2.813187</td>\n",
       "      <td>4.200000</td>\n",
       "    </tr>\n",
       "    <tr>\n",
       "      <th>3</th>\n",
       "      <td>BM-004</td>\n",
       "      <td>3.178295</td>\n",
       "      <td>2.695312</td>\n",
       "    </tr>\n",
       "    <tr>\n",
       "      <th>4</th>\n",
       "      <td>BM-005</td>\n",
       "      <td>3.315217</td>\n",
       "      <td>2.846154</td>\n",
       "    </tr>\n",
       "  </tbody>\n",
       "</table>\n",
       "</div>"
      ],
      "text/plain": [
       "    Model  Trustworthy Rating  Dominant Rating\n",
       "0  BM-001            3.063830         3.230769\n",
       "1  BM-002            3.617021         3.703704\n",
       "2  BM-003            2.813187         4.200000\n",
       "3  BM-004            3.178295         2.695312\n",
       "4  BM-005            3.315217         2.846154"
      ]
     },
     "execution_count": 4,
     "metadata": {},
     "output_type": "execute_result"
    }
   ],
   "source": [
    "all_TD_ratings_path = '/Users/graceliu/Desktop/ColumbiaThesis/data/T_D_ratings_WSW.csv'\n",
    "all_TD_ratings = pd.read_csv(all_TD_ratings_path)\n",
    "all_TD_ratings.head()"
   ]
  },
  {
   "cell_type": "markdown",
   "metadata": {},
   "source": [
    "# Trust vs. untrust\n",
    "## All faces"
   ]
  },
  {
   "cell_type": "code",
   "execution_count": 5,
   "metadata": {},
   "outputs": [
    {
     "name": "stdout",
     "output_type": "stream",
     "text": [
      "Trustworthy mean: 0.0326 (n=1860)\n",
      "Untrustworthy mean: 0.0292 (n=1860)\n"
     ]
    }
   ],
   "source": [
    "map_root = \"/Users/graceliu/Desktop/ColumbiaThesis/individual_ID_maps\"\n",
    "hipp_mask_img = nib.load(\"/Users/graceliu/Desktop/ColumbiaThesis/brain_masks/hippocampus_resampled.nii.gz\")\n",
    "hipp_data = hipp_mask_img.get_fdata().astype(bool)\n",
    "\n",
    "trustworthy_vals, untrustworthy_vals = [], []\n",
    "for sub in range(1, 33):\n",
    "    sub_id = f\"sub-{sub:03d}\"\n",
    "    if sub_id == \"sub-011\":\n",
    "        continue\n",
    "\n",
    "    #check if subject folder exists before continuing    \n",
    "    sub_folder = os.path.join(map_root, sub_id)\n",
    "    if not os.path.isdir(sub_folder):\n",
    "        print(sub_folder, 'FOLDER DOES NOT EXIST')\n",
    "\n",
    "    face_ids_seen = []\n",
    "\n",
    "    # First pass: collect all face IDs this subject has seen (from file names)\n",
    "    for f in os.listdir(sub_folder):\n",
    "        if f.endswith(\".nii.gz\"):\n",
    "            face_id = f.split(\"_\")[1]  # assumes format like sub-001_BM-001_run-1.nii.gz\n",
    "            face_ids_seen.append(face_id)\n",
    "\n",
    "    # check if there are duplicates\n",
    "    assert len(face_ids_seen) == len(set(face_ids_seen)), f\"ERROR: there are duplicates!\"\n",
    "\n",
    "    # Get trust ratings for only the faces this subject saw\n",
    "    sub_ratings = all_TD_ratings[all_TD_ratings[\"Model\"].isin(face_ids_seen)]  \n",
    "\n",
    "    sub_median = sub_ratings[\"Trustworthy Rating\"].median()\n",
    "\n",
    "    # Second pass: process each face file\n",
    "    for f in os.listdir(sub_folder):\n",
    "        if f.endswith(\".nii.gz\"):\n",
    "            face_id = f.split(\"_\")[1]\n",
    "\n",
    "            # Get the trust rating for this face\n",
    "            row = all_TD_ratings[all_TD_ratings[\"Model\"] == face_id]\n",
    "            if row.empty:\n",
    "                print(\"Error\")\n",
    "                print(row)\n",
    "            trust_rating = row[\"Trustworthy Rating\"].values[0]\n",
    "\n",
    "            # Load neural data\n",
    "            map_path = os.path.join(sub_folder, f)\n",
    "            img = nib.load(map_path)\n",
    "            data = img.get_fdata()\n",
    "            mean_hipp = np.nanmean(data[hipp_data])\n",
    "\n",
    "            # Classify based on subject-specific median\n",
    "            if trust_rating > sub_median:\n",
    "                trustworthy_vals.append(mean_hipp)\n",
    "            else:\n",
    "                untrustworthy_vals.append(mean_hipp)\n",
    "\n",
    "# Final average results\n",
    "print(f\"Trustworthy mean: {np.mean(trustworthy_vals):.4f} (n={len(trustworthy_vals)})\")\n",
    "print(f\"Untrustworthy mean: {np.mean(untrustworthy_vals):.4f} (n={len(untrustworthy_vals)})\")"
   ]
  },
  {
   "cell_type": "code",
   "execution_count": 6,
   "metadata": {},
   "outputs": [
    {
     "name": "stdout",
     "output_type": "stream",
     "text": [
      "t = 1.0020\n",
      "p = 0.3164\n"
     ]
    }
   ],
   "source": [
    "from scipy.stats import ttest_ind\n",
    "\n",
    "t_stat_hipp, p_val_hipp = ttest_ind(trustworthy_vals, untrustworthy_vals, equal_var=False)\n",
    "print(f\"t = {t_stat_hipp:.4f}\")\n",
    "print(f\"p = {p_val_hipp:.4f}\")"
   ]
  },
  {
   "cell_type": "markdown",
   "metadata": {},
   "source": [
    "## BM only"
   ]
  },
  {
   "cell_type": "code",
   "execution_count": 7,
   "metadata": {},
   "outputs": [
    {
     "name": "stdout",
     "output_type": "stream",
     "text": [
      "Trustworthy mean: 0.0335 (n=930)\n",
      "Untrustworthy mean: 0.0291 (n=930)\n"
     ]
    }
   ],
   "source": [
    "trustworthy_vals, untrustworthy_vals = [], []\n",
    "for sub in range(1, 33):\n",
    "    sub_id = f\"sub-{sub:03d}\"\n",
    "    if sub_id == \"sub-011\":\n",
    "        continue\n",
    "\n",
    "    #check if subject folder exists before continuing    \n",
    "    sub_folder = os.path.join(map_root, sub_id)\n",
    "    if not os.path.isdir(sub_folder):\n",
    "        print(sub_folder, 'FOLDER DOES NOT EXIST')\n",
    "\n",
    "    face_ids_seen = []\n",
    "\n",
    "    # First pass: collect all face IDs this subject has seen (from file names)\n",
    "    for f in os.listdir(sub_folder):\n",
    "        if f.endswith(\".nii.gz\") and \"BM-\" in f:\n",
    "            face_id = f.split(\"_\")[1]  # assumes format like sub-001_BM-001_run-1.nii.gz\n",
    "            face_ids_seen.append(face_id)\n",
    "\n",
    "    # check if there are duplicates\n",
    "    assert len(face_ids_seen) == len(set(face_ids_seen)), f\"ERROR: there are duplicates!\"\n",
    "\n",
    "    # Get trust ratings for only the faces this subject saw\n",
    "    sub_ratings = all_TD_ratings[all_TD_ratings[\"Model\"].isin(face_ids_seen)]  \n",
    "\n",
    "    sub_median = sub_ratings[\"Trustworthy Rating\"].median()\n",
    "\n",
    "    # Second pass: process each face file\n",
    "    for f in os.listdir(sub_folder):\n",
    "        if f.endswith(\".nii.gz\") and \"BM-\" in f:\n",
    "            face_id = f.split(\"_\")[1]\n",
    "\n",
    "            # Get the trust rating for this face\n",
    "            row = all_TD_ratings[all_TD_ratings[\"Model\"] == face_id]\n",
    "            if row.empty:\n",
    "                print(\"Error\")\n",
    "                print(row)\n",
    "            trust_rating = row[\"Trustworthy Rating\"].values[0]\n",
    "\n",
    "            # Load neural data\n",
    "            map_path = os.path.join(sub_folder, f)\n",
    "            img = nib.load(map_path)\n",
    "            data = img.get_fdata()\n",
    "            mean_hipp = np.nanmean(data[hipp_data])\n",
    "\n",
    "            # Classify based on subject-specific median\n",
    "            if trust_rating > sub_median:\n",
    "                trustworthy_vals.append(mean_hipp)\n",
    "            else:\n",
    "                untrustworthy_vals.append(mean_hipp)\n",
    "\n",
    "# Final average results\n",
    "print(f\"Trustworthy mean: {np.mean(trustworthy_vals):.4f} (n={len(trustworthy_vals)})\")\n",
    "print(f\"Untrustworthy mean: {np.mean(untrustworthy_vals):.4f} (n={len(untrustworthy_vals)})\")"
   ]
  },
  {
   "cell_type": "code",
   "execution_count": 8,
   "metadata": {},
   "outputs": [
    {
     "name": "stdout",
     "output_type": "stream",
     "text": [
      "t = 0.9106\n",
      "p = 0.3626\n"
     ]
    }
   ],
   "source": [
    "from scipy.stats import ttest_ind\n",
    "\n",
    "t_stat_hipp, p_val_hipp = ttest_ind(trustworthy_vals, untrustworthy_vals, equal_var=False)\n",
    "print(f\"t = {t_stat_hipp:.4f}\")\n",
    "print(f\"p = {p_val_hipp:.4f}\")"
   ]
  },
  {
   "cell_type": "markdown",
   "metadata": {},
   "source": [
    "## WM only"
   ]
  },
  {
   "cell_type": "code",
   "execution_count": 9,
   "metadata": {},
   "outputs": [
    {
     "name": "stdout",
     "output_type": "stream",
     "text": [
      "Trustworthy mean: 0.0315 (n=930)\n",
      "Untrustworthy mean: 0.0294 (n=930)\n"
     ]
    }
   ],
   "source": [
    "trustworthy_vals, untrustworthy_vals = [], []\n",
    "for sub in range(1, 33):\n",
    "    sub_id = f\"sub-{sub:03d}\"\n",
    "    if sub_id == \"sub-011\":\n",
    "        continue\n",
    "\n",
    "    #check if subject folder exists before continuing    \n",
    "    sub_folder = os.path.join(map_root, sub_id)\n",
    "    if not os.path.isdir(sub_folder):\n",
    "        print(sub_folder, 'FOLDER DOES NOT EXIST')\n",
    "\n",
    "    face_ids_seen = []\n",
    "\n",
    "    # First pass: collect all face IDs this subject has seen (from file names)\n",
    "    for f in os.listdir(sub_folder):\n",
    "        if f.endswith(\".nii.gz\") and \"WM-\" in f:\n",
    "            face_id = f.split(\"_\")[1]  # assumes format like sub-001_BM-001_run-1.nii.gz\n",
    "            face_ids_seen.append(face_id)\n",
    "\n",
    "    # check if there are duplicates\n",
    "    assert len(face_ids_seen) == len(set(face_ids_seen)), f\"ERROR: there are duplicates!\"\n",
    "\n",
    "    # Get trust ratings for only the faces this subject saw\n",
    "    sub_ratings = all_TD_ratings[all_TD_ratings[\"Model\"].isin(face_ids_seen)]  \n",
    "\n",
    "    sub_median = sub_ratings[\"Trustworthy Rating\"].median()\n",
    "\n",
    "    # Second pass: process each face file\n",
    "    for f in os.listdir(sub_folder):\n",
    "        if f.endswith(\".nii.gz\") and \"WM-\" in f:\n",
    "            face_id = f.split(\"_\")[1]\n",
    "\n",
    "            # Get the trust rating for this face\n",
    "            row = all_TD_ratings[all_TD_ratings[\"Model\"] == face_id]\n",
    "            if row.empty:\n",
    "                print(\"Error\")\n",
    "                print(row)\n",
    "            trust_rating = row[\"Trustworthy Rating\"].values[0]\n",
    "\n",
    "            # Load neural data\n",
    "            map_path = os.path.join(sub_folder, f)\n",
    "            img = nib.load(map_path)\n",
    "            data = img.get_fdata()\n",
    "            mean_hipp = np.nanmean(data[hipp_data])\n",
    "\n",
    "            # Classify based on subject-specific median\n",
    "            if trust_rating > sub_median:\n",
    "                trustworthy_vals.append(mean_hipp)\n",
    "            else:\n",
    "                untrustworthy_vals.append(mean_hipp)\n",
    "\n",
    "# Final average results\n",
    "print(f\"Trustworthy mean: {np.mean(trustworthy_vals):.4f} (n={len(trustworthy_vals)})\")\n",
    "print(f\"Untrustworthy mean: {np.mean(untrustworthy_vals):.4f} (n={len(untrustworthy_vals)})\")"
   ]
  },
  {
   "cell_type": "code",
   "execution_count": 10,
   "metadata": {},
   "outputs": [
    {
     "name": "stdout",
     "output_type": "stream",
     "text": [
      "t = 0.4534\n",
      "p = 0.6503\n"
     ]
    }
   ],
   "source": [
    "t_stat_hipp, p_val_hipp = ttest_ind(trustworthy_vals, untrustworthy_vals, equal_var=False)\n",
    "print(f\"t = {t_stat_hipp:.4f}\")\n",
    "print(f\"p = {p_val_hipp:.4f}\")"
   ]
  },
  {
   "cell_type": "markdown",
   "metadata": {},
   "source": [
    "# Dom vs. nondom\n",
    "## All faces"
   ]
  },
  {
   "cell_type": "code",
   "execution_count": 19,
   "metadata": {},
   "outputs": [
    {
     "name": "stdout",
     "output_type": "stream",
     "text": [
      "Dominant mean: 0.0320 (n=1860)\n",
      "Nondominant mean: 0.0297 (n=1860)\n"
     ]
    }
   ],
   "source": [
    "dominant_vals, nondominant_vals = [], []\n",
    "for sub in range(1, 33):\n",
    "    sub_id = f\"sub-{sub:03d}\"\n",
    "    if sub_id == \"sub-011\":\n",
    "        continue\n",
    "\n",
    "    #check if subject folder exists before continuing    \n",
    "    sub_folder = os.path.join(map_root, sub_id)\n",
    "    if not os.path.isdir(sub_folder):\n",
    "        print(sub_folder, 'FOLDER DOES NOT EXIST')\n",
    "\n",
    "    face_ids_seen = []\n",
    "\n",
    "    # First pass: collect all face IDs this subject has seen (from file names)\n",
    "    for f in os.listdir(sub_folder):\n",
    "        if f.endswith(\".nii.gz\"):\n",
    "            face_id = f.split(\"_\")[1]  # assumes format like sub-001_BM-001_run-1.nii.gz\n",
    "            face_ids_seen.append(face_id)\n",
    "\n",
    "    # check if there are duplicates\n",
    "    assert len(face_ids_seen) == len(set(face_ids_seen)), f\"ERROR: there are duplicates!\"\n",
    "\n",
    "    # Get trust ratings for only the faces this subject saw\n",
    "    sub_ratings = all_TD_ratings[all_TD_ratings[\"Model\"].isin(face_ids_seen)]  \n",
    "\n",
    "    sub_median = sub_ratings[\"Dominant Rating\"].median()\n",
    "\n",
    "    # Second pass: process each face file\n",
    "    for f in os.listdir(sub_folder):\n",
    "        if f.endswith(\".nii.gz\"):\n",
    "            face_id = f.split(\"_\")[1]\n",
    "\n",
    "            # Get the trust rating for this face\n",
    "            row = all_TD_ratings[all_TD_ratings[\"Model\"] == face_id]\n",
    "            if row.empty:\n",
    "                print(\"Error\")\n",
    "                print(row)\n",
    "            dom_rating = row[\"Dominant Rating\"].values[0]\n",
    "\n",
    "            # Load neural data\n",
    "            map_path = os.path.join(sub_folder, f)\n",
    "            img = nib.load(map_path)\n",
    "            data = img.get_fdata()\n",
    "            mean_hipp = np.nanmean(data[hipp_data])\n",
    "\n",
    "            # Classify based on subject-specific median\n",
    "            if dom_rating > sub_median:\n",
    "                dominant_vals.append(mean_hipp)\n",
    "            else:\n",
    "                nondominant_vals.append(mean_hipp)\n",
    "\n",
    "# Final average results\n",
    "print(f\"Dominant mean: {np.mean(dominant_vals):.4f} (n={len(dominant_vals)})\")\n",
    "print(f\"Nondominant mean: {np.mean(nondominant_vals):.4f} (n={len(nondominant_vals)})\")"
   ]
  },
  {
   "cell_type": "code",
   "execution_count": 20,
   "metadata": {},
   "outputs": [
    {
     "name": "stdout",
     "output_type": "stream",
     "text": [
      "t = 0.6691\n",
      "p = 0.5035\n"
     ]
    }
   ],
   "source": [
    "t_stat_hipp, p_val_hipp = ttest_ind(dominant_vals, nondominant_vals, equal_var=False)\n",
    "print(f\"t = {t_stat_hipp:.4f}\")\n",
    "print(f\"p = {p_val_hipp:.4f}\")"
   ]
  },
  {
   "cell_type": "markdown",
   "metadata": {},
   "source": [
    "## BM only"
   ]
  },
  {
   "cell_type": "code",
   "execution_count": 21,
   "metadata": {},
   "outputs": [
    {
     "name": "stdout",
     "output_type": "stream",
     "text": [
      "Dominant mean: 0.0294 (n=930)\n",
      "Nondominant mean: 0.0332 (n=930)\n"
     ]
    }
   ],
   "source": [
    "dominant_vals, nondominant_vals = [], []\n",
    "for sub in range(1, 33):\n",
    "    sub_id = f\"sub-{sub:03d}\"\n",
    "    if sub_id == \"sub-011\":\n",
    "        continue\n",
    "\n",
    "    #check if subject folder exists before continuing    \n",
    "    sub_folder = os.path.join(map_root, sub_id)\n",
    "    if not os.path.isdir(sub_folder):\n",
    "        print(sub_folder, 'FOLDER DOES NOT EXIST')\n",
    "\n",
    "    face_ids_seen = []\n",
    "\n",
    "    # First pass: collect all face IDs this subject has seen (from file names)\n",
    "    for f in os.listdir(sub_folder):\n",
    "        if f.endswith(\".nii.gz\") and \"BM-\" in f:\n",
    "            face_id = f.split(\"_\")[1]  # assumes format like sub-001_BM-001_run-1.nii.gz\n",
    "            face_ids_seen.append(face_id)\n",
    "\n",
    "    # check if there are duplicates\n",
    "    assert len(face_ids_seen) == len(set(face_ids_seen)), f\"ERROR: there are duplicates!\"\n",
    "\n",
    "    # Get trust ratings for only the faces this subject saw\n",
    "    sub_ratings = all_TD_ratings[all_TD_ratings[\"Model\"].isin(face_ids_seen)]  \n",
    "\n",
    "    sub_median = sub_ratings[\"Dominant Rating\"].median()\n",
    "\n",
    "    # Second pass: process each face file\n",
    "    for f in os.listdir(sub_folder):\n",
    "        if f.endswith(\".nii.gz\") and \"BM-\" in f:\n",
    "            face_id = f.split(\"_\")[1]\n",
    "\n",
    "            # Get the trust rating for this face\n",
    "            row = all_TD_ratings[all_TD_ratings[\"Model\"] == face_id]\n",
    "            if row.empty:\n",
    "                print(\"Error\")\n",
    "                print(row)\n",
    "            dom_rating = row[\"Dominant Rating\"].values[0]\n",
    "\n",
    "            # Load neural data\n",
    "            map_path = os.path.join(sub_folder, f)\n",
    "            img = nib.load(map_path)\n",
    "            data = img.get_fdata()\n",
    "            mean_hipp = np.nanmean(data[hipp_data])\n",
    "\n",
    "            # Classify based on subject-specific median\n",
    "            if dom_rating > sub_median:\n",
    "                dominant_vals.append(mean_hipp)\n",
    "            else:\n",
    "                nondominant_vals.append(mean_hipp)\n",
    "\n",
    "# Final average results\n",
    "print(f\"Dominant mean: {np.mean(dominant_vals):.4f} (n={len(dominant_vals)})\")\n",
    "print(f\"Nondominant mean: {np.mean(nondominant_vals):.4f} (n={len(nondominant_vals)})\")"
   ]
  },
  {
   "cell_type": "code",
   "execution_count": 22,
   "metadata": {},
   "outputs": [
    {
     "name": "stdout",
     "output_type": "stream",
     "text": [
      "t = -0.7820\n",
      "p = 0.4343\n"
     ]
    }
   ],
   "source": [
    "t_stat_hipp, p_val_hipp = ttest_ind(dominant_vals, nondominant_vals, equal_var=False)\n",
    "print(f\"t = {t_stat_hipp:.4f}\")\n",
    "print(f\"p = {p_val_hipp:.4f}\")"
   ]
  },
  {
   "cell_type": "markdown",
   "metadata": {},
   "source": [
    "## WM only"
   ]
  },
  {
   "cell_type": "code",
   "execution_count": 23,
   "metadata": {},
   "outputs": [
    {
     "name": "stdout",
     "output_type": "stream",
     "text": [
      "Dominant mean: 0.0329 (n=930)\n",
      "Nondominant mean: 0.0280 (n=930)\n"
     ]
    }
   ],
   "source": [
    "dominant_vals, nondominant_vals = [], []\n",
    "for sub in range(1, 33):\n",
    "    sub_id = f\"sub-{sub:03d}\"\n",
    "    if sub_id == \"sub-011\":\n",
    "        continue\n",
    "\n",
    "    #check if subject folder exists before continuing    \n",
    "    sub_folder = os.path.join(map_root, sub_id)\n",
    "    if not os.path.isdir(sub_folder):\n",
    "        print(sub_folder, 'FOLDER DOES NOT EXIST')\n",
    "\n",
    "    face_ids_seen = []\n",
    "\n",
    "    # First pass: collect all face IDs this subject has seen (from file names)\n",
    "    for f in os.listdir(sub_folder):\n",
    "        if f.endswith(\".nii.gz\") and \"WM-\" in f:\n",
    "            face_id = f.split(\"_\")[1]  # assumes format like sub-001_BM-001_run-1.nii.gz\n",
    "            face_ids_seen.append(face_id)\n",
    "\n",
    "    # check if there are duplicates\n",
    "    assert len(face_ids_seen) == len(set(face_ids_seen)), f\"ERROR: there are duplicates!\"\n",
    "\n",
    "    # Get trust ratings for only the faces this subject saw\n",
    "    sub_ratings = all_TD_ratings[all_TD_ratings[\"Model\"].isin(face_ids_seen)]  \n",
    "\n",
    "    sub_median = sub_ratings[\"Dominant Rating\"].median()\n",
    "\n",
    "    # Second pass: process each face file\n",
    "    for f in os.listdir(sub_folder):\n",
    "        if f.endswith(\".nii.gz\") and \"WM-\" in f:\n",
    "            face_id = f.split(\"_\")[1]\n",
    "\n",
    "            # Get the trust rating for this face\n",
    "            row = all_TD_ratings[all_TD_ratings[\"Model\"] == face_id]\n",
    "            if row.empty:\n",
    "                print(\"Error\")\n",
    "                print(row)\n",
    "            dom_rating = row[\"Dominant Rating\"].values[0]\n",
    "\n",
    "            # Load neural data\n",
    "            map_path = os.path.join(sub_folder, f)\n",
    "            img = nib.load(map_path)\n",
    "            data = img.get_fdata()\n",
    "            mean_hipp = np.nanmean(data[hipp_data])\n",
    "\n",
    "            # Classify based on subject-specific median\n",
    "            if dom_rating > sub_median:\n",
    "                dominant_vals.append(mean_hipp)\n",
    "            else:\n",
    "                nondominant_vals.append(mean_hipp)\n",
    "\n",
    "# Final average results\n",
    "print(f\"Dominant mean: {np.mean(dominant_vals):.4f} (n={len(dominant_vals)})\")\n",
    "print(f\"Nondominant mean: {np.mean(nondominant_vals):.4f} (n={len(nondominant_vals)})\")"
   ]
  },
  {
   "cell_type": "code",
   "execution_count": 25,
   "metadata": {},
   "outputs": [
    {
     "name": "stdout",
     "output_type": "stream",
     "text": [
      "t = 1.0133\n",
      "p = 0.3111\n"
     ]
    }
   ],
   "source": [
    "t_stat_hipp, p_val_hipp = ttest_ind(dominant_vals, nondominant_vals, equal_var=False)\n",
    "print(f\"t = {t_stat_hipp:.4f}\")\n",
    "print(f\"p = {p_val_hipp:.4f}\")"
   ]
  }
 ],
 "metadata": {
  "kernelspec": {
   "display_name": "nilearn",
   "language": "python",
   "name": "python3"
  },
  "language_info": {
   "codemirror_mode": {
    "name": "ipython",
    "version": 3
   },
   "file_extension": ".py",
   "mimetype": "text/x-python",
   "name": "python",
   "nbconvert_exporter": "python",
   "pygments_lexer": "ipython3",
   "version": "3.11.10"
  }
 },
 "nbformat": 4,
 "nbformat_minor": 2
}
