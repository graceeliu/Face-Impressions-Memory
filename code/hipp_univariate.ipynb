{
 "cells": [
  {
   "cell_type": "code",
   "execution_count": 1,
   "metadata": {},
   "outputs": [
    {
     "name": "stdout",
     "output_type": "stream",
     "text": [
      "Requirement already satisfied: nibabel in /opt/anaconda3/lib/python3.12/site-packages (5.3.2)\n",
      "Requirement already satisfied: numpy>=1.22 in /opt/anaconda3/lib/python3.12/site-packages (from nibabel) (1.26.4)\n",
      "Requirement already satisfied: packaging>=20 in /opt/anaconda3/lib/python3.12/site-packages (from nibabel) (24.1)\n",
      "Requirement already satisfied: typing-extensions>=4.6 in /opt/anaconda3/lib/python3.12/site-packages (from nibabel) (4.11.0)\n",
      "Requirement already satisfied: nilearn in /opt/anaconda3/lib/python3.12/site-packages (0.10.4)\n",
      "Requirement already satisfied: joblib>=1.0.0 in /opt/anaconda3/lib/python3.12/site-packages (from nilearn) (1.4.2)\n",
      "Requirement already satisfied: lxml in /opt/anaconda3/lib/python3.12/site-packages (from nilearn) (5.2.1)\n",
      "Requirement already satisfied: nibabel>=4.0.0 in /opt/anaconda3/lib/python3.12/site-packages (from nilearn) (5.3.2)\n",
      "Requirement already satisfied: numpy>=1.19.0 in /opt/anaconda3/lib/python3.12/site-packages (from nilearn) (1.26.4)\n",
      "Requirement already satisfied: packaging in /opt/anaconda3/lib/python3.12/site-packages (from nilearn) (24.1)\n",
      "Requirement already satisfied: pandas>=1.1.5 in /opt/anaconda3/lib/python3.12/site-packages (from nilearn) (2.2.2)\n",
      "Requirement already satisfied: requests>=2.25.0 in /opt/anaconda3/lib/python3.12/site-packages (from nilearn) (2.32.3)\n",
      "Requirement already satisfied: scikit-learn>=1.0.0 in /opt/anaconda3/lib/python3.12/site-packages (from nilearn) (1.5.1)\n",
      "Requirement already satisfied: scipy>=1.8.0 in /opt/anaconda3/lib/python3.12/site-packages (from nilearn) (1.13.1)\n",
      "Requirement already satisfied: typing-extensions>=4.6 in /opt/anaconda3/lib/python3.12/site-packages (from nibabel>=4.0.0->nilearn) (4.11.0)\n",
      "Requirement already satisfied: python-dateutil>=2.8.2 in /opt/anaconda3/lib/python3.12/site-packages (from pandas>=1.1.5->nilearn) (2.9.0.post0)\n",
      "Requirement already satisfied: pytz>=2020.1 in /opt/anaconda3/lib/python3.12/site-packages (from pandas>=1.1.5->nilearn) (2024.1)\n",
      "Requirement already satisfied: tzdata>=2022.7 in /opt/anaconda3/lib/python3.12/site-packages (from pandas>=1.1.5->nilearn) (2023.3)\n",
      "Requirement already satisfied: charset-normalizer<4,>=2 in /opt/anaconda3/lib/python3.12/site-packages (from requests>=2.25.0->nilearn) (3.3.2)\n",
      "Requirement already satisfied: idna<4,>=2.5 in /opt/anaconda3/lib/python3.12/site-packages (from requests>=2.25.0->nilearn) (2.10)\n",
      "Requirement already satisfied: urllib3<3,>=1.21.1 in /opt/anaconda3/lib/python3.12/site-packages (from requests>=2.25.0->nilearn) (2.3.0)\n",
      "Requirement already satisfied: certifi>=2017.4.17 in /opt/anaconda3/lib/python3.12/site-packages (from requests>=2.25.0->nilearn) (2024.12.14)\n",
      "Requirement already satisfied: threadpoolctl>=3.1.0 in /opt/anaconda3/lib/python3.12/site-packages (from scikit-learn>=1.0.0->nilearn) (3.5.0)\n",
      "Requirement already satisfied: six>=1.5 in /opt/anaconda3/lib/python3.12/site-packages (from python-dateutil>=2.8.2->pandas>=1.1.5->nilearn) (1.16.0)\n"
     ]
    }
   ],
   "source": [
    "! pip install nibabel\n",
    "! pip install nilearn\n",
    "! pip install -q nilearn"
   ]
  },
  {
   "cell_type": "code",
   "execution_count": 2,
   "metadata": {},
   "outputs": [],
   "source": [
    "import nibabel as nib\n",
    "import pandas as pd\n",
    "import os\n",
    "import numpy as np"
   ]
  },
  {
   "cell_type": "code",
   "execution_count": 3,
   "metadata": {},
   "outputs": [
    {
     "data": {
      "text/html": [
       "<div>\n",
       "<style scoped>\n",
       "    .dataframe tbody tr th:only-of-type {\n",
       "        vertical-align: middle;\n",
       "    }\n",
       "\n",
       "    .dataframe tbody tr th {\n",
       "        vertical-align: top;\n",
       "    }\n",
       "\n",
       "    .dataframe thead th {\n",
       "        text-align: right;\n",
       "    }\n",
       "</style>\n",
       "<table border=\"1\" class=\"dataframe\">\n",
       "  <thead>\n",
       "    <tr style=\"text-align: right;\">\n",
       "      <th></th>\n",
       "      <th>subj_id</th>\n",
       "      <th>statement</th>\n",
       "      <th>face</th>\n",
       "      <th>selected_face</th>\n",
       "      <th>rt</th>\n",
       "      <th>correct</th>\n",
       "      <th>cat_chosen</th>\n",
       "      <th>cat_correct</th>\n",
       "      <th>within_error</th>\n",
       "      <th>between_error</th>\n",
       "    </tr>\n",
       "  </thead>\n",
       "  <tbody>\n",
       "    <tr>\n",
       "      <th>0</th>\n",
       "      <td>1</td>\n",
       "      <td>The more he talked - the more it became eviden...</td>\n",
       "      <td>CFD-WM-020-001-N.jpg</td>\n",
       "      <td>CFD-BM-032-024-N.jpg</td>\n",
       "      <td>NaN</td>\n",
       "      <td>0</td>\n",
       "      <td>B</td>\n",
       "      <td>W</td>\n",
       "      <td>0</td>\n",
       "      <td>1</td>\n",
       "    </tr>\n",
       "    <tr>\n",
       "      <th>1</th>\n",
       "      <td>1</td>\n",
       "      <td>I don't know. He did seem a bit worked up. I w...</td>\n",
       "      <td>CFD-BM-004-002-N.jpg</td>\n",
       "      <td>CFD-WM-238-020-N.jpg</td>\n",
       "      <td>NaN</td>\n",
       "      <td>0</td>\n",
       "      <td>W</td>\n",
       "      <td>B</td>\n",
       "      <td>0</td>\n",
       "      <td>1</td>\n",
       "    </tr>\n",
       "    <tr>\n",
       "      <th>2</th>\n",
       "      <td>1</td>\n",
       "      <td>I tried hard not to engage too much - but he k...</td>\n",
       "      <td>CFD-BM-043-071-N.jpg</td>\n",
       "      <td>CFD-WM-238-020-N.jpg</td>\n",
       "      <td>NaN</td>\n",
       "      <td>0</td>\n",
       "      <td>W</td>\n",
       "      <td>B</td>\n",
       "      <td>0</td>\n",
       "      <td>1</td>\n",
       "    </tr>\n",
       "    <tr>\n",
       "      <th>3</th>\n",
       "      <td>1</td>\n",
       "      <td>I wanted to just walk away. It wasn't worth wa...</td>\n",
       "      <td>CFD-WM-225-127-N.jpg</td>\n",
       "      <td>CFD-WM-225-127-N.jpg</td>\n",
       "      <td>NaN</td>\n",
       "      <td>1</td>\n",
       "      <td>W</td>\n",
       "      <td>W</td>\n",
       "      <td>0</td>\n",
       "      <td>0</td>\n",
       "    </tr>\n",
       "    <tr>\n",
       "      <th>4</th>\n",
       "      <td>1</td>\n",
       "      <td>Yeah they were supposed to be there. Their car...</td>\n",
       "      <td>CFD-WM-225-127-N.jpg</td>\n",
       "      <td>CFD-BM-043-071-N.jpg</td>\n",
       "      <td>NaN</td>\n",
       "      <td>0</td>\n",
       "      <td>B</td>\n",
       "      <td>W</td>\n",
       "      <td>0</td>\n",
       "      <td>1</td>\n",
       "    </tr>\n",
       "  </tbody>\n",
       "</table>\n",
       "</div>"
      ],
      "text/plain": [
       "   subj_id                                          statement  \\\n",
       "0        1  The more he talked - the more it became eviden...   \n",
       "1        1  I don't know. He did seem a bit worked up. I w...   \n",
       "2        1  I tried hard not to engage too much - but he k...   \n",
       "3        1  I wanted to just walk away. It wasn't worth wa...   \n",
       "4        1  Yeah they were supposed to be there. Their car...   \n",
       "\n",
       "                   face         selected_face  rt  correct cat_chosen  \\\n",
       "0  CFD-WM-020-001-N.jpg  CFD-BM-032-024-N.jpg NaN        0          B   \n",
       "1  CFD-BM-004-002-N.jpg  CFD-WM-238-020-N.jpg NaN        0          W   \n",
       "2  CFD-BM-043-071-N.jpg  CFD-WM-238-020-N.jpg NaN        0          W   \n",
       "3  CFD-WM-225-127-N.jpg  CFD-WM-225-127-N.jpg NaN        1          W   \n",
       "4  CFD-WM-225-127-N.jpg  CFD-BM-043-071-N.jpg NaN        0          B   \n",
       "\n",
       "  cat_correct  within_error  between_error  \n",
       "0           W             0              1  \n",
       "1           B             0              1  \n",
       "2           B             0              1  \n",
       "3           W             0              0  \n",
       "4           W             0              1  "
      ]
     },
     "execution_count": 3,
     "metadata": {},
     "output_type": "execute_result"
    }
   ],
   "source": [
    "run='1'\n",
    "\n",
    "behav_data_path = f'/Users/graceliu/Desktop/ColumbiaThesis/data/trial_by_trial_WSW.csv'\n",
    "behav_df = pd.read_csv(behav_data_path)\n",
    "behav_df.head()\n",
    "\n"
   ]
  },
  {
   "cell_type": "code",
   "execution_count": 4,
   "metadata": {},
   "outputs": [
    {
     "data": {
      "image/png": "[encoded data removed]",
      "text/plain": [
       "<Figure size 660x350 with 4 Axes>"
      ]
     },
     "metadata": {},
     "output_type": "display_data"
    }
   ],
   "source": [
    "from nilearn.image import resample_to_img\n",
    "from nilearn.plotting import plot_roi, show\n",
    "\n",
    "#subject 001 zmap (reference image)\n",
    "run1 = \"/Users/graceliu/Desktop/ColumbiaThesis/zmaps/sub-001_encoding_correct_within_bt2_between_error_zmap.nii.gz\"\n",
    "img = nib.load(run1)\n",
    "\n",
    "#hippocampus mask (source image)\n",
    "hipp_file_path = \"/Users/graceliu/Desktop/ColumbiaThesis/brain_masks/hippocampus_association-test_z_FDR_0.01.nii.gz\"\n",
    "hipp_img = nib.load(hipp_file_path)\n",
    "\n",
    "#resample hippocampus mask to match Z-map\n",
    "resampled_hipp_mask = resample_to_img(hipp_img, img, interpolation='continuous')\n",
    "\n",
    "#convert resampled mask to numpy array\n",
    "resampled_mask_data = resampled_hipp_mask.get_fdata()\n",
    "\n",
    "#apply threshold to only focus on hippocampus ROI\n",
    "binary_mask = (resampled_mask_data > 12).astype(np.uint8)\n",
    "\n",
    "#save resampled mask as a new NIfTI file\n",
    "mask_img = nib.Nifti1Image(binary_mask, resampled_hipp_mask.affine, resampled_hipp_mask.header)\n",
    "\n",
    "hipp_save_path = \"/Users/graceliu/Desktop/ColumbiaThesis/brain_masks/hippocampus_resampled.nii.gz\"\n",
    "nib.save(mask_img, hipp_save_path)\n",
    "\n",
    "plot_roi(mask_img, bg_img = img)\n",
    "show()"
   ]
  },
  {
   "cell_type": "code",
   "execution_count": 5,
   "metadata": {},
   "outputs": [],
   "source": [
    "## updated hippocampus mask\n",
    "# file_path = \"/Users/graceliu/Desktop/ColumbiaThesis/brain_masks/hippocampus_association-test_z_FDR_0.01.nii.gz\"\n",
    "\n",
    "# # Load the NIfTI file\n",
    "# img = nib.load(file_path)\n",
    "# data = img.get_fdata()\n",
    "\n",
    "# # Apply threshold to create a binary mask (1 if value > 9, else 0)\n",
    "# binary_mask = (data > 9).astype(np.uint8)\n",
    "\n",
    "# # Save the binary mask as a new NIfTI file\n",
    "# mask_img = nib.Nifti1Image(binary_mask, img.affine, img.header)\n",
    "\n"
   ]
  },
  {
   "cell_type": "code",
   "execution_count": 6,
   "metadata": {},
   "outputs": [
    {
     "data": {
      "image/png": "[encoded data removed]",
      "text/plain": [
       "<Figure size 800x600 with 1 Axes>"
      ]
     },
     "metadata": {},
     "output_type": "display_data"
    }
   ],
   "source": [
    "import matplotlib.pyplot as plt\n",
    "\n",
    "# Define subjects (001 to 032)\n",
    "subjects = [f\"{i:03d}\" for i in range(1, 33) if i!= 11]\n",
    "\n",
    "# Define conditions\n",
    "conditions = [\"between_error\", \"within_error\", \"correct\"]  # These must match your actual Z-map filenames\n",
    "\n",
    "# Dictionary to store beta values for each condition\n",
    "beta_values = {cond: [] for cond in conditions}\n",
    "\n",
    "# Base directory where Z-maps are stored (Modify this to your actual Z-map location)\n",
    "zmap_dir = \"/Users/graceliu/Desktop/ColumbiaThesis/zmaps\"  # Ensure this points to the right folder\n",
    "\n",
    "# Iterate over subjects\n",
    "for sub in subjects:\n",
    "    for cond in conditions:\n",
    "        # Construct Z-map filename (Ensure your filenames match this pattern)\n",
    "        zmap_path = os.path.join(zmap_dir, f\"sub-{sub}_encoding_correct_within_bt2_{cond}_zmap.nii.gz\")\n",
    "\n",
    "        if os.path.exists(zmap_path):\n",
    "            # Load the Z-map\n",
    "            zmap = nib.load(zmap_path)\n",
    "\n",
    "            hippocampus_mask = np.where(mask_img.get_fdata() == 1, 1, 0).astype(np.uint8)\n",
    "\n",
    "            # Compute mean beta value within hippocampus ROI\n",
    "            zmap_data = zmap.get_fdata()\n",
    "            beta_mean = np.nanmean(zmap_data[hippocampus_mask == 1])\n",
    "\n",
    "            # Store the beta value for this subject and condition\n",
    "            beta_values[cond].append(beta_mean)\n",
    "        else:\n",
    "            print(f\"Warning: Missing file {zmap_path}\")\n",
    "    #break\n",
    "# Compute the average & standard error of beta values across subjects\n",
    "avg_beta_values = [np.mean(beta_values[cond]) for cond in conditions]\n",
    "sem_beta_values = [np.std(beta_values[cond], ddof=1) / np.sqrt(len(beta_values[cond])) for cond in conditions]  \n",
    "\n",
    "# Fix y-axis scale: Set limits based on data range\n",
    "y_min = min(avg_beta_values) - 0.2  # Small buffer below min\n",
    "y_max = max(avg_beta_values) + 0.2  # Small buffer above max\n",
    "\n",
    "plt.figure(figsize=(8, 6))\n",
    "plt.bar(conditions, avg_beta_values, yerr=sem_beta_values, color=['red', 'blue', 'green'], alpha=0.7, capsize=5)\n",
    "plt.xlabel(\"Condition\", fontsize=15)\n",
    "plt.ylabel(\"Average Beta Value\", fontsize=15)\n",
    "plt.title(\"Average Encoding in Hippocampus Across All Participants\", fontsize=16)\n",
    "plt.ylim(y_min, y_max) \n",
    "plt.grid(axis=\"y\", linestyle=\"--\", alpha=0.6)\n",
    "plt.show()"
   ]
  },
  {
   "cell_type": "code",
   "execution_count": 7,
   "metadata": {},
   "outputs": [
    {
     "name": "stdout",
     "output_type": "stream",
     "text": [
      "31\n"
     ]
    }
   ],
   "source": [
    "print(len(beta_values['correct']))"
   ]
  },
  {
   "cell_type": "code",
   "execution_count": 8,
   "metadata": {},
   "outputs": [
    {
     "name": "stdout",
     "output_type": "stream",
     "text": [
      "   ANOVA F-statistic  ANOVA p-value\n",
      "0            0.26854       0.765105\n"
     ]
    }
   ],
   "source": [
    "import scipy.stats as stats\n",
    "# ANOVA to compare means across conditions\n",
    "anova_WSW = stats.f_oneway(beta_values[\"between_error\"], beta_values[\"within_error\"], beta_values[\"correct\"])\n",
    "\n",
    "# Display ANOVA results\n",
    "anova_WSW_df = pd.DataFrame({\"ANOVA F-statistic\": [anova_WSW.statistic], \"ANOVA p-value\": [anova_WSW.pvalue]})\n",
    "print(anova_WSW_df)\n"
   ]
  },
  {
   "cell_type": "markdown",
   "metadata": {},
   "source": [
    "no signficant difference in hippocampus activity between the three conditions"
   ]
  },
  {
   "cell_type": "code",
   "execution_count": 9,
   "metadata": {},
   "outputs": [
    {
     "name": "stdout",
     "output_type": "stream",
     "text": [
      "\n",
      "Pairwise t-tests:\n",
      "between_error vs. within_error: t = -0.750, p = 0.45651\n",
      "between_error vs. correct: t = -0.053, p = 0.95814\n",
      "within_error vs. correct: t = 0.584, p = 0.56167\n"
     ]
    }
   ],
   "source": [
    "# t-tests\n",
    "t_results = {}\n",
    "comparisons = [(\"between_error\", \"within_error\"), (\"between_error\", \"correct\"), (\"within_error\", \"correct\")]\n",
    "\n",
    "for cond1, cond2 in comparisons:\n",
    "    t_stat, p_value = stats.ttest_ind(beta_values[cond1], beta_values[cond2], equal_var=False)\n",
    "    t_results[f\"{cond1} vs. {cond2}\"] = (t_stat, p_value)\n",
    "\n",
    "# Print t-test results\n",
    "print(\"\\nPairwise t-tests:\")\n",
    "for comparison, (t_stat, p_val) in t_results.items():\n",
    "    print(f\"{comparison}: t = {t_stat:.3f}, p = {p_val:.5f}\")\n"
   ]
  },
  {
   "cell_type": "markdown",
   "metadata": {},
   "source": [
    "no significant difference between the three conditions. they all have almost no or very little difference. t-value close to 0 means almost no difference"
   ]
  },
  {
   "cell_type": "code",
   "execution_count": 10,
   "metadata": {},
   "outputs": [
    {
     "name": "stdout",
     "output_type": "stream",
     "text": [
      "Effect Size (Eta Squared): 0.0059\n"
     ]
    }
   ],
   "source": [
    "#effect sizes\n",
    "grand_mean = np.mean([val for cond in beta_values.values() for val in cond])\n",
    "ss_between = sum(len(beta_values[cond]) * (np.mean(beta_values[cond]) - grand_mean) ** 2 for cond in conditions)\n",
    "ss_total = sum((val - grand_mean) ** 2 for cond in beta_values.values() for val in cond)\n",
    "\n",
    "eta_squared = ss_between / ss_total\n",
    "\n",
    "print(f\"Effect Size (Eta Squared): {eta_squared:.4f}\")"
   ]
  },
  {
   "cell_type": "markdown",
   "metadata": {},
   "source": [
    "0.66% of variance in beta values is due to differences in condition, so conditions explain almost none of the variance."
   ]
  },
  {
   "cell_type": "code",
   "execution_count": 11,
   "metadata": {},
   "outputs": [
    {
     "name": "stdout",
     "output_type": "stream",
     "text": [
      "Cohen's d (Between vs Within): -0.1904\n",
      "Cohen's d (Between vs Correct): -0.0134\n",
      "Cohen's d (Within vs Correct): 0.1483\n"
     ]
    }
   ],
   "source": [
    "def cohens_d(group1, group2):\n",
    "    diff = np.mean(group1) - np.mean(group2)\n",
    "    pooled_std = np.sqrt((np.std(group1, ddof=1) ** 2 + np.std(group2, ddof=1) ** 2) / 2)\n",
    "    return diff / pooled_std\n",
    "\n",
    "# Compute Cohen’s d for pairwise comparisons\n",
    "effect_size_between_within = cohens_d(beta_values[\"between_error\"], beta_values[\"within_error\"])\n",
    "effect_size_between_correct = cohens_d(beta_values[\"between_error\"], beta_values[\"correct\"])\n",
    "effect_size_within_correct = cohens_d(beta_values[\"within_error\"], beta_values[\"correct\"])\n",
    "\n",
    "print(f\"Cohen's d (Between vs Within): {effect_size_between_within:.4f}\")\n",
    "print(f\"Cohen's d (Between vs Correct): {effect_size_between_correct:.4f}\")\n",
    "print(f\"Cohen's d (Within vs Correct): {effect_size_within_correct:.4f}\")"
   ]
  },
  {
   "cell_type": "markdown",
   "metadata": {},
   "source": [
    "between vs. within: small decrease in hippocampal activation in between condition compared to within condition\n",
    "\n",
    "between vs. correct: small decrease in hippocampal activation in between condition compared to correct condition, but basically nonexistent \n",
    "\n",
    "withini vs. correct: small increase in hippocampal activation in within condition compared to correct condition "
   ]
  }
 ],
 "metadata": {
  "kernelspec": {
   "display_name": "base",
   "language": "python",
   "name": "python3"
  },
  "language_info": {
   "codemirror_mode": {
    "name": "ipython",
    "version": 3
   },
   "file_extension": ".py",
   "mimetype": "text/x-python",
   "name": "python",
   "nbconvert_exporter": "python",
   "pygments_lexer": "ipython3",
   "version": "3.12.7"
  }
 },
 "nbformat": 4,
 "nbformat_minor": 2
}
