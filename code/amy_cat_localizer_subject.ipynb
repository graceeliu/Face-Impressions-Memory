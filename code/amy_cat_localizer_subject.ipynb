{
 "cells": [
  {
   "cell_type": "code",
   "execution_count": 16,
   "metadata": {},
   "outputs": [
    {
     "name": "stdout",
     "output_type": "stream",
     "text": [
      "Requirement already satisfied: nibabel in /opt/anaconda3/envs/nilearn/lib/python3.11/site-packages (5.3.2)\n",
      "Requirement already satisfied: importlib-resources>=5.12 in /opt/anaconda3/envs/nilearn/lib/python3.11/site-packages (from nibabel) (6.4.5)\n",
      "Requirement already satisfied: numpy>=1.22 in /opt/anaconda3/envs/nilearn/lib/python3.11/site-packages (from nibabel) (1.26.4)\n",
      "Requirement already satisfied: packaging>=20 in /opt/anaconda3/envs/nilearn/lib/python3.11/site-packages (from nibabel) (24.2)\n",
      "Requirement already satisfied: typing-extensions>=4.6 in /opt/anaconda3/envs/nilearn/lib/python3.11/site-packages (from nibabel) (4.12.2)\n",
      "Requirement already satisfied: nilearn in /opt/anaconda3/envs/nilearn/lib/python3.11/site-packages (0.10.4)\n",
      "Requirement already satisfied: joblib>=1.0.0 in /opt/anaconda3/envs/nilearn/lib/python3.11/site-packages (from nilearn) (1.4.2)\n",
      "Requirement already satisfied: lxml in /opt/anaconda3/envs/nilearn/lib/python3.11/site-packages (from nilearn) (5.3.0)\n",
      "Requirement already satisfied: nibabel>=4.0.0 in /opt/anaconda3/envs/nilearn/lib/python3.11/site-packages (from nilearn) (5.3.2)\n",
      "Requirement already satisfied: numpy>=1.19.0 in /opt/anaconda3/envs/nilearn/lib/python3.11/site-packages (from nilearn) (1.26.4)\n",
      "Requirement already satisfied: packaging in /opt/anaconda3/envs/nilearn/lib/python3.11/site-packages (from nilearn) (24.2)\n",
      "Requirement already satisfied: pandas>=1.1.5 in /opt/anaconda3/envs/nilearn/lib/python3.11/site-packages (from nilearn) (2.2.3)\n",
      "Requirement already satisfied: requests>=2.25.0 in /opt/anaconda3/envs/nilearn/lib/python3.11/site-packages (from nilearn) (2.32.3)\n",
      "Requirement already satisfied: scikit-learn>=1.0.0 in /opt/anaconda3/envs/nilearn/lib/python3.11/site-packages (from nilearn) (1.5.2)\n",
      "Requirement already satisfied: scipy>=1.8.0 in /opt/anaconda3/envs/nilearn/lib/python3.11/site-packages (from nilearn) (1.13.1)\n",
      "Requirement already satisfied: importlib-resources>=5.12 in /opt/anaconda3/envs/nilearn/lib/python3.11/site-packages (from nibabel>=4.0.0->nilearn) (6.4.5)\n",
      "Requirement already satisfied: typing-extensions>=4.6 in /opt/anaconda3/envs/nilearn/lib/python3.11/site-packages (from nibabel>=4.0.0->nilearn) (4.12.2)\n",
      "Requirement already satisfied: python-dateutil>=2.8.2 in /opt/anaconda3/envs/nilearn/lib/python3.11/site-packages (from pandas>=1.1.5->nilearn) (2.9.0.post0)\n",
      "Requirement already satisfied: pytz>=2020.1 in /opt/anaconda3/envs/nilearn/lib/python3.11/site-packages (from pandas>=1.1.5->nilearn) (2024.2)\n",
      "Requirement already satisfied: tzdata>=2022.7 in /opt/anaconda3/envs/nilearn/lib/python3.11/site-packages (from pandas>=1.1.5->nilearn) (2024.2)\n",
      "Requirement already satisfied: charset-normalizer<4,>=2 in /opt/anaconda3/envs/nilearn/lib/python3.11/site-packages (from requests>=2.25.0->nilearn) (3.4.0)\n",
      "Requirement already satisfied: idna<4,>=2.5 in /opt/anaconda3/envs/nilearn/lib/python3.11/site-packages (from requests>=2.25.0->nilearn) (3.10)\n",
      "Requirement already satisfied: urllib3<3,>=1.21.1 in /opt/anaconda3/envs/nilearn/lib/python3.11/site-packages (from requests>=2.25.0->nilearn) (2.2.3)\n",
      "Requirement already satisfied: certifi>=2017.4.17 in /opt/anaconda3/envs/nilearn/lib/python3.11/site-packages (from requests>=2.25.0->nilearn) (2024.8.30)\n",
      "Requirement already satisfied: threadpoolctl>=3.1.0 in /opt/anaconda3/envs/nilearn/lib/python3.11/site-packages (from scikit-learn>=1.0.0->nilearn) (3.5.0)\n",
      "Requirement already satisfied: six>=1.5 in /opt/anaconda3/envs/nilearn/lib/python3.11/site-packages (from python-dateutil>=2.8.2->pandas>=1.1.5->nilearn) (1.16.0)\n"
     ]
    }
   ],
   "source": [
    "! pip install nibabel\n",
    "! pip install nilearn\n",
    "! pip install -q nilearn\n",
    "import nibabel as nib\n",
    "import os\n",
    "import pandas as pd\n",
    "import numpy as np\n",
    "import matplotlib.pyplot as plt\n",
    "from nilearn.image import resample_to_img\n",
    "from nilearn.plotting import plot_roi, show"
   ]
  },
  {
   "cell_type": "code",
   "execution_count": 17,
   "metadata": {},
   "outputs": [],
   "source": [
    "run='1'\n",
    "behav_data_path = '/Users/graceliu/Desktop/ColumbiaThesis/data/trial_by_trial_WSW_with_ratings.csv'\n",
    "behav_df = pd.read_csv(behav_data_path)"
   ]
  },
  {
   "cell_type": "code",
   "execution_count": 18,
   "metadata": {},
   "outputs": [
    {
     "data": {
      "image/png": "[encoded data removed]",
      "text/plain": [
       "<Figure size 660x350 with 4 Axes>"
      ]
     },
     "metadata": {},
     "output_type": "display_data"
    }
   ],
   "source": [
    "### resample amygdala mask -- use previous hipp code \n",
    "\n",
    "#subject 001 zmap (reference image)\n",
    "run1 = \"/Users/graceliu/Desktop/ColumbiaThesis/zmaps/sub-001_encoding_correct_within_bt2_between_error_zmap.nii.gz\"\n",
    "img = nib.load(run1)\n",
    "\n",
    "#amygdala mask (source image)\n",
    "amy_file_path = \"/Users/graceliu/Desktop/ColumbiaThesis/brain_masks/amygdala_association-test_z_FDR_0.01.nii.gz\"\n",
    "amy_img = nib.load(amy_file_path)\n",
    "\n",
    "#resample amygdala mask to match Z-map\n",
    "resampled_amy_mask = resample_to_img(amy_img, img, interpolation='continuous')\n",
    "\n",
    "#convert resampled mask to numpy array\n",
    "resampled_mask_data = resampled_amy_mask.get_fdata()\n",
    "\n",
    "#apply threshold to only focus on amy ROI\n",
    "binary_mask = (resampled_mask_data > 12).astype(np.uint8)\n",
    "\n",
    "#save resampled mask as a new NIfTI file\n",
    "mask_img = nib.Nifti1Image(binary_mask, resampled_amy_mask.affine, resampled_amy_mask.header)\n",
    "\n",
    "amy_save_path = \"/Users/graceliu/Desktop/ColumbiaThesis/brain_masks/amygdala_resampled.nii.gz\"\n",
    "nib.save(mask_img, amy_save_path)\n",
    "\n",
    "plot_roi(mask_img, bg_img = img)\n",
    "show()"
   ]
  },
  {
   "cell_type": "markdown",
   "metadata": {},
   "source": [
    "# Individual face neural patterns during cateogry localizer for a two group split: untrustworthy vs. trustworthy"
   ]
  },
  {
   "cell_type": "code",
   "execution_count": 19,
   "metadata": {},
   "outputs": [
    {
     "data": {
      "text/html": [
       "<div>\n",
       "<style scoped>\n",
       "    .dataframe tbody tr th:only-of-type {\n",
       "        vertical-align: middle;\n",
       "    }\n",
       "\n",
       "    .dataframe tbody tr th {\n",
       "        vertical-align: top;\n",
       "    }\n",
       "\n",
       "    .dataframe thead th {\n",
       "        text-align: right;\n",
       "    }\n",
       "</style>\n",
       "<table border=\"1\" class=\"dataframe\">\n",
       "  <thead>\n",
       "    <tr style=\"text-align: right;\">\n",
       "      <th></th>\n",
       "      <th>Model</th>\n",
       "      <th>Trustworthy Rating</th>\n",
       "      <th>Dominant Rating</th>\n",
       "    </tr>\n",
       "  </thead>\n",
       "  <tbody>\n",
       "    <tr>\n",
       "      <th>0</th>\n",
       "      <td>BM-001</td>\n",
       "      <td>3.063830</td>\n",
       "      <td>3.230769</td>\n",
       "    </tr>\n",
       "    <tr>\n",
       "      <th>1</th>\n",
       "      <td>BM-002</td>\n",
       "      <td>3.617021</td>\n",
       "      <td>3.703704</td>\n",
       "    </tr>\n",
       "    <tr>\n",
       "      <th>2</th>\n",
       "      <td>BM-003</td>\n",
       "      <td>2.813187</td>\n",
       "      <td>4.200000</td>\n",
       "    </tr>\n",
       "    <tr>\n",
       "      <th>3</th>\n",
       "      <td>BM-004</td>\n",
       "      <td>3.178295</td>\n",
       "      <td>2.695312</td>\n",
       "    </tr>\n",
       "    <tr>\n",
       "      <th>4</th>\n",
       "      <td>BM-005</td>\n",
       "      <td>3.315217</td>\n",
       "      <td>2.846154</td>\n",
       "    </tr>\n",
       "  </tbody>\n",
       "</table>\n",
       "</div>"
      ],
      "text/plain": [
       "    Model  Trustworthy Rating  Dominant Rating\n",
       "0  BM-001            3.063830         3.230769\n",
       "1  BM-002            3.617021         3.703704\n",
       "2  BM-003            2.813187         4.200000\n",
       "3  BM-004            3.178295         2.695312\n",
       "4  BM-005            3.315217         2.846154"
      ]
     },
     "execution_count": 19,
     "metadata": {},
     "output_type": "execute_result"
    }
   ],
   "source": [
    "all_TD_ratings_path = '/Users/graceliu/Desktop/ColumbiaThesis/data/T_D_ratings_WSW.csv'\n",
    "all_TD_ratings = pd.read_csv(all_TD_ratings_path)\n",
    "all_TD_ratings.head()"
   ]
  },
  {
   "cell_type": "markdown",
   "metadata": {},
   "source": [
    "## All faces"
   ]
  },
  {
   "cell_type": "code",
   "execution_count": 20,
   "metadata": {},
   "outputs": [
    {
     "name": "stdout",
     "output_type": "stream",
     "text": [
      "Trustworthy mean: 0.0325 (n=1860)\n",
      "Untrustworthy mean: 0.0311 (n=1860)\n"
     ]
    }
   ],
   "source": [
    "map_root = \"/Users/graceliu/Desktop/ColumbiaThesis/individual_ID_maps\"\n",
    "\n",
    "amyg_mask_img = nib.load(\"/Users/graceliu/Desktop/ColumbiaThesis/brain_masks/amygdala_resampled.nii.gz\")\n",
    "amyg_data = amyg_mask_img.get_fdata().astype(bool)\n",
    "\n",
    "trustworthy_vals, untrustworthy_vals = [], []\n",
    "for sub in range(1, 33):\n",
    "    sub_id = f\"sub-{sub:03d}\"\n",
    "    if sub_id == \"sub-011\":\n",
    "        continue\n",
    "\n",
    "    #check if subject folder exists before continuing    \n",
    "    sub_folder = os.path.join(map_root, sub_id)\n",
    "    if not os.path.isdir(sub_folder):\n",
    "        print(sub_folder, 'FOLDER DOES NOT EXIST')\n",
    "\n",
    "    face_ids_seen = []\n",
    "\n",
    "    # First pass: collect all face IDs this subject has seen (from file names)\n",
    "    for f in os.listdir(sub_folder):\n",
    "        if f.endswith(\".nii.gz\"):\n",
    "            face_id = f.split(\"_\")[1]  # assumes format like sub-001_BM-001_run-1.nii.gz\n",
    "            face_ids_seen.append(face_id)\n",
    "\n",
    "    # check if there are duplicates\n",
    "    assert len(face_ids_seen) == len(set(face_ids_seen)), f\"ERROR: there are duplicates!\"\n",
    "\n",
    "    # Get trust ratings for only the faces this subject saw\n",
    "    sub_ratings = all_TD_ratings[all_TD_ratings[\"Model\"].isin(face_ids_seen)]  \n",
    "\n",
    "    sub_median = sub_ratings[\"Trustworthy Rating\"].median()\n",
    "\n",
    "    # Second pass: process each face file\n",
    "    for f in os.listdir(sub_folder):\n",
    "        if f.endswith(\".nii.gz\"):\n",
    "            face_id = f.split(\"_\")[1]\n",
    "\n",
    "            # Get the trust rating for this face\n",
    "            row = all_TD_ratings[all_TD_ratings[\"Model\"] == face_id]\n",
    "            if row.empty:\n",
    "                print(\"Error\")\n",
    "                print(row)\n",
    "            trust_rating = row[\"Trustworthy Rating\"].values[0]\n",
    "\n",
    "            # Load neural data\n",
    "            map_path = os.path.join(sub_folder, f)\n",
    "            img = nib.load(map_path)\n",
    "            data = img.get_fdata()\n",
    "            mean_amyg = np.nanmean(data[amyg_data])\n",
    "\n",
    "            # Classify based on subject-specific median\n",
    "            if trust_rating > sub_median:\n",
    "                trustworthy_vals.append(mean_amyg)\n",
    "            else:\n",
    "                untrustworthy_vals.append(mean_amyg)\n",
    "\n",
    "# Final average results\n",
    "print(f\"Trustworthy mean: {np.mean(trustworthy_vals):.4f} (n={len(trustworthy_vals)})\")\n",
    "print(f\"Untrustworthy mean: {np.mean(untrustworthy_vals):.4f} (n={len(untrustworthy_vals)})\")"
   ]
  },
  {
   "cell_type": "code",
   "execution_count": 21,
   "metadata": {},
   "outputs": [
    {
     "name": "stdout",
     "output_type": "stream",
     "text": [
      "t = 0.4405\n",
      "p = 0.6596\n"
     ]
    }
   ],
   "source": [
    "from scipy.stats import ttest_ind\n",
    "\n",
    "t_stat, p_val = ttest_ind(trustworthy_vals, untrustworthy_vals, equal_var=False)\n",
    "print(f\"t = {t_stat:.4f}\")\n",
    "print(f\"p = {p_val:.4f}\")"
   ]
  },
  {
   "cell_type": "markdown",
   "metadata": {},
   "source": [
    "### ** for neural diff download **"
   ]
  },
  {
   "cell_type": "code",
   "execution_count": 39,
   "metadata": {},
   "outputs": [
    {
     "name": "stdout",
     "output_type": "stream",
     "text": [
      "Saved: neural_trust_diff_by_subject.csv\n"
     ]
    }
   ],
   "source": [
    "## download neural activation differences into csv\n",
    "\n",
    "subject_ids = []\n",
    "trustworthy_vals_subj = []\n",
    "untrustworthy_vals_subj = []\n",
    "\n",
    "# Loop through subjects\n",
    "for sub in range(1, 33):\n",
    "    sub_id = f\"sub-{sub:03d}\"\n",
    "    if sub_id == \"sub-011\":\n",
    "        continue  # skip subject 11\n",
    "\n",
    "    sub_folder = os.path.join(map_root, sub_id)\n",
    "    if not os.path.isdir(sub_folder):\n",
    "        print(sub_folder, 'FOLDER DOES NOT EXIST')\n",
    "        continue\n",
    "\n",
    "    face_ids_seen = []\n",
    "    for f in os.listdir(sub_folder):\n",
    "        if f.endswith(\".nii.gz\"):\n",
    "            face_id = f.split(\"_\")[1]\n",
    "            face_ids_seen.append(face_id)\n",
    "\n",
    "    # Check for duplicates\n",
    "    assert len(face_ids_seen) == len(set(face_ids_seen)), f\"ERROR: duplicates for {sub_id}\"\n",
    "\n",
    "    # Get trust ratings for faces this subject saw\n",
    "    sub_ratings = all_TD_ratings[all_TD_ratings[\"Model\"].isin(face_ids_seen)]\n",
    "    sub_median = sub_ratings[\"Trustworthy Rating\"].median()\n",
    "\n",
    "    # Prepare per-condition storage\n",
    "    sub_trust_vals = []\n",
    "    sub_untrust_vals = []\n",
    "\n",
    "    for f in os.listdir(sub_folder):\n",
    "        if f.endswith(\".nii.gz\"):\n",
    "            face_id = f.split(\"_\")[1]\n",
    "            row = all_TD_ratings[all_TD_ratings[\"Model\"] == face_id]\n",
    "            if row.empty:\n",
    "                print(\"Error: face rating not found for\", face_id)\n",
    "                continue\n",
    "            trust_rating = row[\"Trustworthy Rating\"].values[0]\n",
    "\n",
    "            # Load beta map\n",
    "            map_path = os.path.join(sub_folder, f)\n",
    "            img = nib.load(map_path)\n",
    "            data = img.get_fdata()\n",
    "            mean_amyg = np.nanmean(data[amyg_data])\n",
    "\n",
    "            # Subject-specific split\n",
    "            if trust_rating > sub_median:\n",
    "                sub_trust_vals.append(mean_amyg)\n",
    "            else:\n",
    "                sub_untrust_vals.append(mean_amyg)\n",
    "\n",
    "    # Store subject-level means\n",
    "    subject_ids.append(sub_id)\n",
    "    trustworthy_vals_subj.append(np.mean(sub_trust_vals))\n",
    "    untrustworthy_vals_subj.append(np.mean(sub_untrust_vals))\n",
    "\n",
    "# Compute neural difference\n",
    "neural_diff = np.array(trustworthy_vals_subj) - np.array(untrustworthy_vals_subj)\n",
    "\n",
    "# Save to DataFrame\n",
    "neural_diff_df = pd.DataFrame({\n",
    "    \"subj_id\": subject_ids,\n",
    "    \"mean_trustworthy\": trustworthy_vals_subj,\n",
    "    \"mean_untrustworthy\": untrustworthy_vals_subj,\n",
    "    \"neural_diff\": neural_diff\n",
    "})\n",
    "\n",
    "# Export to CSV\n",
    "neural_diff_df.to_csv(\"neural_trust_diff_by_subject.csv\", index=False)\n",
    "print(\"Saved: neural_trust_diff_by_subject.csv\")"
   ]
  },
  {
   "cell_type": "markdown",
   "metadata": {},
   "source": [
    "No significant difference in amygdala activity between the groups."
   ]
  },
  {
   "cell_type": "markdown",
   "metadata": {},
   "source": [
    "## BM only"
   ]
  },
  {
   "cell_type": "code",
   "execution_count": 22,
   "metadata": {},
   "outputs": [
    {
     "name": "stdout",
     "output_type": "stream",
     "text": [
      "Trustworthy mean: 0.0347 (n=930)\n",
      "Untrustworthy mean: 0.0306 (n=930)\n"
     ]
    }
   ],
   "source": [
    "trustworthy_vals, untrustworthy_vals = [], []\n",
    "for sub in range(1, 33):\n",
    "    sub_id = f\"sub-{sub:03d}\"\n",
    "    if sub_id == \"sub-011\":\n",
    "        continue\n",
    "\n",
    "    #check if subject folder exists before continuing    \n",
    "    sub_folder = os.path.join(map_root, sub_id)\n",
    "    if not os.path.isdir(sub_folder):\n",
    "        print(sub_folder, 'FOLDER DOES NOT EXIST')\n",
    "\n",
    "    face_ids_seen = []\n",
    "\n",
    "    # First pass: collect all face IDs this subject has seen (from file names)\n",
    "    for f in os.listdir(sub_folder):\n",
    "        if f.endswith(\".nii.gz\") and \"BM-\" in f:\n",
    "            face_id = f.split(\"_\")[1]  # assumes format like sub-001_BM-001_run-1.nii.gz\n",
    "            face_ids_seen.append(face_id)\n",
    "\n",
    "    # check if there are duplicates\n",
    "    assert len(face_ids_seen) == len(set(face_ids_seen)), f\"ERROR: there are duplicates!\"\n",
    "\n",
    "    # Get trust ratings for only the faces this subject saw\n",
    "    sub_ratings = all_TD_ratings[all_TD_ratings[\"Model\"].isin(face_ids_seen)]  \n",
    "\n",
    "    sub_median = sub_ratings[\"Trustworthy Rating\"].median()\n",
    "\n",
    "    # Second pass: process each face file\n",
    "    for f in os.listdir(sub_folder):\n",
    "        if f.endswith(\".nii.gz\") and \"BM-\" in f:\n",
    "            face_id = f.split(\"_\")[1]\n",
    "\n",
    "            # Get the trust rating for this face\n",
    "            row = all_TD_ratings[all_TD_ratings[\"Model\"] == face_id]\n",
    "            if row.empty:\n",
    "                print(\"Error\")\n",
    "                print(row)\n",
    "            trust_rating = row[\"Trustworthy Rating\"].values[0]\n",
    "\n",
    "            # Load neural data\n",
    "            map_path = os.path.join(sub_folder, f)\n",
    "            img = nib.load(map_path)\n",
    "            data = img.get_fdata()\n",
    "            mean_amyg = np.nanmean(data[amyg_data])\n",
    "\n",
    "            # Classify based on subject-specific median\n",
    "            if trust_rating > sub_median:\n",
    "                trustworthy_vals.append(mean_amyg)\n",
    "            else:\n",
    "                untrustworthy_vals.append(mean_amyg)\n",
    "\n",
    "# Final average results\n",
    "print(f\"Trustworthy mean: {np.mean(trustworthy_vals):.4f} (n={len(trustworthy_vals)})\")\n",
    "print(f\"Untrustworthy mean: {np.mean(untrustworthy_vals):.4f} (n={len(untrustworthy_vals)})\")"
   ]
  },
  {
   "cell_type": "code",
   "execution_count": 23,
   "metadata": {},
   "outputs": [
    {
     "name": "stdout",
     "output_type": "stream",
     "text": [
      "t = 0.9186\n",
      "p = 0.3584\n"
     ]
    }
   ],
   "source": [
    "t_stat, p_val = ttest_ind(trustworthy_vals, untrustworthy_vals, equal_var=False)\n",
    "print(f\"t = {t_stat:.4f}\")\n",
    "print(f\"p = {p_val:.4f}\")"
   ]
  },
  {
   "cell_type": "markdown",
   "metadata": {},
   "source": [
    "## WM only"
   ]
  },
  {
   "cell_type": "code",
   "execution_count": 24,
   "metadata": {},
   "outputs": [
    {
     "name": "stdout",
     "output_type": "stream",
     "text": [
      "Trustworthy mean: 0.0284 (n=930)\n",
      "Untrustworthy mean: 0.0336 (n=930)\n"
     ]
    }
   ],
   "source": [
    "trustworthy_vals, untrustworthy_vals = [], []\n",
    "for sub in range(1, 33):\n",
    "    sub_id = f\"sub-{sub:03d}\"\n",
    "    if sub_id == \"sub-011\":\n",
    "        continue\n",
    "\n",
    "    #check if subject folder exists before continuing    \n",
    "    sub_folder = os.path.join(map_root, sub_id)\n",
    "    if not os.path.isdir(sub_folder):\n",
    "        print(sub_folder, 'FOLDER DOES NOT EXIST')\n",
    "\n",
    "    face_ids_seen = []\n",
    "\n",
    "    # First pass: collect all face IDs this subject has seen (from file names)\n",
    "    for f in os.listdir(sub_folder):\n",
    "        if f.endswith(\".nii.gz\") and \"WM-\" in f:\n",
    "            face_id = f.split(\"_\")[1]  # assumes format like sub-001_BM-001_run-1.nii.gz\n",
    "            face_ids_seen.append(face_id)\n",
    "\n",
    "    # check if there are duplicates\n",
    "    assert len(face_ids_seen) == len(set(face_ids_seen)), f\"ERROR: there are duplicates!\"\n",
    "\n",
    "    # Get trust ratings for only the faces this subject saw\n",
    "    sub_ratings = all_TD_ratings[all_TD_ratings[\"Model\"].isin(face_ids_seen)]  \n",
    "\n",
    "    sub_median = sub_ratings[\"Trustworthy Rating\"].median()\n",
    "\n",
    "    # Second pass: process each face file\n",
    "    for f in os.listdir(sub_folder):\n",
    "        if f.endswith(\".nii.gz\") and \"WM-\" in f:\n",
    "            face_id = f.split(\"_\")[1]\n",
    "\n",
    "            # Get the trust rating for this face\n",
    "            row = all_TD_ratings[all_TD_ratings[\"Model\"] == face_id]\n",
    "            if row.empty:\n",
    "                print(\"Error\")\n",
    "                print(row)\n",
    "            trust_rating = row[\"Trustworthy Rating\"].values[0]\n",
    "\n",
    "            # Load neural data\n",
    "            map_path = os.path.join(sub_folder, f)\n",
    "            img = nib.load(map_path)\n",
    "            data = img.get_fdata()\n",
    "            mean_amyg = np.nanmean(data[amyg_data])\n",
    "\n",
    "            # Classify based on subject-specific median\n",
    "            if trust_rating > sub_median:\n",
    "                trustworthy_vals.append(mean_amyg)\n",
    "            else:\n",
    "                untrustworthy_vals.append(mean_amyg)\n",
    "\n",
    "# Final average results\n",
    "print(f\"Trustworthy mean: {np.mean(trustworthy_vals):.4f} (n={len(trustworthy_vals)})\")\n",
    "print(f\"Untrustworthy mean: {np.mean(untrustworthy_vals):.4f} (n={len(untrustworthy_vals)})\")"
   ]
  },
  {
   "cell_type": "code",
   "execution_count": 25,
   "metadata": {},
   "outputs": [
    {
     "name": "stdout",
     "output_type": "stream",
     "text": [
      "t = -1.2020\n",
      "p = 0.2295\n"
     ]
    }
   ],
   "source": [
    "t_stat, p_val = ttest_ind(trustworthy_vals, untrustworthy_vals, equal_var=False)\n",
    "print(f\"t = {t_stat:.4f}\")\n",
    "print(f\"p = {p_val:.4f}\")"
   ]
  },
  {
   "cell_type": "markdown",
   "metadata": {},
   "source": [
    "# Dom vs. nondom\n",
    "## All faces"
   ]
  },
  {
   "cell_type": "code",
   "execution_count": 40,
   "metadata": {},
   "outputs": [
    {
     "name": "stdout",
     "output_type": "stream",
     "text": [
      "Dominant mean: 0.0338 (n=1860)\n",
      "Non Dominant mean: 0.0298 (n=1860)\n"
     ]
    }
   ],
   "source": [
    "dominant_vals, nondominant_vals = [], []\n",
    "for sub in range(1, 33):\n",
    "    sub_id = f\"sub-{sub:03d}\"\n",
    "    if sub_id == \"sub-011\":\n",
    "        continue\n",
    "\n",
    "    #check if subject folder exists before continuing    \n",
    "    sub_folder = os.path.join(map_root, sub_id)\n",
    "    if not os.path.isdir(sub_folder):\n",
    "        print(sub_folder, 'FOLDER DOES NOT EXIST')\n",
    "\n",
    "    face_ids_seen = []\n",
    "\n",
    "    # First pass: collect all face IDs this subject has seen (from file names)\n",
    "    for f in os.listdir(sub_folder):\n",
    "        if f.endswith(\".nii.gz\"):\n",
    "            face_id = f.split(\"_\")[1]  # assumes format like sub-001_BM-001_run-1.nii.gz\n",
    "            face_ids_seen.append(face_id)\n",
    "\n",
    "    # check if there are duplicates\n",
    "    assert len(face_ids_seen) == len(set(face_ids_seen)), f\"ERROR: there are duplicates!\"\n",
    "\n",
    "    # Get trust ratings for only the faces this subject saw\n",
    "    sub_ratings = all_TD_ratings[all_TD_ratings[\"Model\"].isin(face_ids_seen)]  \n",
    "\n",
    "    sub_median = sub_ratings[\"Dominant Rating\"].median()\n",
    "\n",
    "    # Second pass: process each face file\n",
    "    for f in os.listdir(sub_folder):\n",
    "        if f.endswith(\".nii.gz\"):\n",
    "            face_id = f.split(\"_\")[1]\n",
    "\n",
    "            # Get the trust rating for this face\n",
    "            row = all_TD_ratings[all_TD_ratings[\"Model\"] == face_id]\n",
    "            if row.empty:\n",
    "                print(\"Error\")\n",
    "                print(row)\n",
    "            dom_rating = row[\"Dominant Rating\"].values[0]\n",
    "\n",
    "            # Load neural data\n",
    "            map_path = os.path.join(sub_folder, f)\n",
    "            img = nib.load(map_path)\n",
    "            data = img.get_fdata()\n",
    "            mean_amyg = np.nanmean(data[amyg_data])\n",
    "\n",
    "            # Classify based on subject-specific median\n",
    "            if dom_rating > sub_median:\n",
    "                dominant_vals.append(mean_amyg)\n",
    "            else:\n",
    "                nondominant_vals.append(mean_amyg)\n",
    "\n",
    "# Final average results\n",
    "print(f\"Dominant mean: {np.mean(dominant_vals):.4f} (n={len(dominant_vals)})\")\n",
    "print(f\"Non Dominant mean: {np.mean(nondominant_vals):.4f} (n={len(nondominant_vals)})\")"
   ]
  },
  {
   "cell_type": "code",
   "execution_count": 41,
   "metadata": {},
   "outputs": [
    {
     "name": "stdout",
     "output_type": "stream",
     "text": [
      "t = 1.2702\n",
      "p = 0.2041\n"
     ]
    }
   ],
   "source": [
    "t_stat, p_val = ttest_ind(dominant_vals, nondominant_vals, equal_var=False)\n",
    "print(f\"t = {t_stat:.4f}\")\n",
    "print(f\"p = {p_val:.4f}\")"
   ]
  },
  {
   "cell_type": "markdown",
   "metadata": {},
   "source": [
    "## BM only"
   ]
  },
  {
   "cell_type": "code",
   "execution_count": 42,
   "metadata": {},
   "outputs": [
    {
     "name": "stdout",
     "output_type": "stream",
     "text": [
      "Dominant mean: 0.0311 (n=930)\n",
      "Non Dominant mean: 0.0342 (n=930)\n"
     ]
    }
   ],
   "source": [
    "dominant_vals, nondominant_vals = [], []\n",
    "for sub in range(1, 33):\n",
    "    sub_id = f\"sub-{sub:03d}\"\n",
    "    if sub_id == \"sub-011\":\n",
    "        continue\n",
    "\n",
    "    #check if subject folder exists before continuing    \n",
    "    sub_folder = os.path.join(map_root, sub_id)\n",
    "    if not os.path.isdir(sub_folder):\n",
    "        print(sub_folder, 'FOLDER DOES NOT EXIST')\n",
    "\n",
    "    face_ids_seen = []\n",
    "\n",
    "    # First pass: collect all face IDs this subject has seen (from file names)\n",
    "    for f in os.listdir(sub_folder):\n",
    "        if f.endswith(\".nii.gz\") and 'BM-' in f:\n",
    "            face_id = f.split(\"_\")[1]  # assumes format like sub-001_BM-001_run-1.nii.gz\n",
    "            face_ids_seen.append(face_id)\n",
    "\n",
    "    # check if there are duplicates\n",
    "    assert len(face_ids_seen) == len(set(face_ids_seen)), f\"ERROR: there are duplicates!\"\n",
    "\n",
    "    # Get trust ratings for only the faces this subject saw\n",
    "    sub_ratings = all_TD_ratings[all_TD_ratings[\"Model\"].isin(face_ids_seen)]  \n",
    "\n",
    "    sub_median = sub_ratings[\"Dominant Rating\"].median()\n",
    "\n",
    "    # Second pass: process each face file\n",
    "    for f in os.listdir(sub_folder):\n",
    "        if f.endswith(\".nii.gz\") and 'BM-' in f:\n",
    "            face_id = f.split(\"_\")[1]\n",
    "\n",
    "            # Get the trust rating for this face\n",
    "            row = all_TD_ratings[all_TD_ratings[\"Model\"] == face_id]\n",
    "            if row.empty:\n",
    "                print(\"Error\")\n",
    "                print(row)\n",
    "            dom_rating = row[\"Dominant Rating\"].values[0]\n",
    "\n",
    "            # Load neural data\n",
    "            map_path = os.path.join(sub_folder, f)\n",
    "            img = nib.load(map_path)\n",
    "            data = img.get_fdata()\n",
    "            mean_amyg = np.nanmean(data[amyg_data])\n",
    "\n",
    "            # Classify based on subject-specific median\n",
    "            if dom_rating > sub_median:\n",
    "                dominant_vals.append(mean_amyg)\n",
    "            else:\n",
    "                nondominant_vals.append(mean_amyg)\n",
    "\n",
    "# Final average results\n",
    "print(f\"Dominant mean: {np.mean(dominant_vals):.4f} (n={len(dominant_vals)})\")\n",
    "print(f\"Non Dominant mean: {np.mean(nondominant_vals):.4f} (n={len(nondominant_vals)})\")"
   ]
  },
  {
   "cell_type": "code",
   "execution_count": 43,
   "metadata": {},
   "outputs": [
    {
     "name": "stdout",
     "output_type": "stream",
     "text": [
      "t = -0.6926\n",
      "p = 0.4886\n"
     ]
    }
   ],
   "source": [
    "t_stat, p_val = ttest_ind(dominant_vals, nondominant_vals, equal_var=False)\n",
    "print(f\"t = {t_stat:.4f}\")\n",
    "print(f\"p = {p_val:.4f}\")"
   ]
  },
  {
   "cell_type": "markdown",
   "metadata": {},
   "source": [
    "## WM only"
   ]
  },
  {
   "cell_type": "code",
   "execution_count": 44,
   "metadata": {},
   "outputs": [
    {
     "name": "stdout",
     "output_type": "stream",
     "text": [
      "Dominant mean: 0.0344 (n=930)\n",
      "Non Dominant mean: 0.0276 (n=930)\n"
     ]
    }
   ],
   "source": [
    "dominant_vals, nondominant_vals = [], []\n",
    "for sub in range(1, 33):\n",
    "    sub_id = f\"sub-{sub:03d}\"\n",
    "    if sub_id == \"sub-011\":\n",
    "        continue\n",
    "\n",
    "    #check if subject folder exists before continuing    \n",
    "    sub_folder = os.path.join(map_root, sub_id)\n",
    "    if not os.path.isdir(sub_folder):\n",
    "        print(sub_folder, 'FOLDER DOES NOT EXIST')\n",
    "\n",
    "    face_ids_seen = []\n",
    "\n",
    "    # First pass: collect all face IDs this subject has seen (from file names)\n",
    "    for f in os.listdir(sub_folder):\n",
    "        if f.endswith(\".nii.gz\") and 'WM-' in f:\n",
    "            face_id = f.split(\"_\")[1]  # assumes format like sub-001_BM-001_run-1.nii.gz\n",
    "            face_ids_seen.append(face_id)\n",
    "\n",
    "    # check if there are duplicates\n",
    "    assert len(face_ids_seen) == len(set(face_ids_seen)), f\"ERROR: there are duplicates!\"\n",
    "\n",
    "    # Get trust ratings for only the faces this subject saw\n",
    "    sub_ratings = all_TD_ratings[all_TD_ratings[\"Model\"].isin(face_ids_seen)]  \n",
    "\n",
    "    sub_median = sub_ratings[\"Dominant Rating\"].median()\n",
    "\n",
    "    # Second pass: process each face file\n",
    "    for f in os.listdir(sub_folder):\n",
    "        if f.endswith(\".nii.gz\") and 'WM-' in f:\n",
    "            face_id = f.split(\"_\")[1]\n",
    "\n",
    "            # Get the trust rating for this face\n",
    "            row = all_TD_ratings[all_TD_ratings[\"Model\"] == face_id]\n",
    "            if row.empty:\n",
    "                print(\"Error\")\n",
    "                print(row)\n",
    "            dom_rating = row[\"Dominant Rating\"].values[0]\n",
    "\n",
    "            # Load neural data\n",
    "            map_path = os.path.join(sub_folder, f)\n",
    "            img = nib.load(map_path)\n",
    "            data = img.get_fdata()\n",
    "            mean_amyg = np.nanmean(data[amyg_data])\n",
    "\n",
    "            # Classify based on subject-specific median\n",
    "            if dom_rating > sub_median:\n",
    "                dominant_vals.append(mean_amyg)\n",
    "            else:\n",
    "                nondominant_vals.append(mean_amyg)\n",
    "\n",
    "# Final average results\n",
    "print(f\"Dominant mean: {np.mean(dominant_vals):.4f} (n={len(dominant_vals)})\")\n",
    "print(f\"Non Dominant mean: {np.mean(nondominant_vals):.4f} (n={len(nondominant_vals)})\")"
   ]
  },
  {
   "cell_type": "code",
   "execution_count": 45,
   "metadata": {},
   "outputs": [
    {
     "name": "stdout",
     "output_type": "stream",
     "text": [
      "t = 1.5897\n",
      "p = 0.1121\n"
     ]
    }
   ],
   "source": [
    "t_stat, p_val = ttest_ind(dominant_vals, nondominant_vals, equal_var=False)\n",
    "print(f\"t = {t_stat:.4f}\")\n",
    "print(f\"p = {p_val:.4f}\")"
   ]
  },
  {
   "cell_type": "code",
   "execution_count": 26,
   "metadata": {},
   "outputs": [
    {
     "data": {
      "text/plain": [
       "'Individual face neural patterns during cateogry localizer for a three group split: untrustworthy vs. neutral vs. trustworthy'"
      ]
     },
     "execution_count": 26,
     "metadata": {},
     "output_type": "execute_result"
    }
   ],
   "source": [
    "'''Individual face neural patterns during cateogry localizer for a three group split: untrustworthy vs. neutral vs. trustworthy'''"
   ]
  }
 ],
 "metadata": {
  "kernelspec": {
   "display_name": "nilearn",
   "language": "python",
   "name": "python3"
  },
  "language_info": {
   "codemirror_mode": {
    "name": "ipython",
    "version": 3
   },
   "file_extension": ".py",
   "mimetype": "text/x-python",
   "name": "python",
   "nbconvert_exporter": "python",
   "pygments_lexer": "ipython3",
   "version": "3.11.10"
  }
 },
 "nbformat": 4,
 "nbformat_minor": 2
}
